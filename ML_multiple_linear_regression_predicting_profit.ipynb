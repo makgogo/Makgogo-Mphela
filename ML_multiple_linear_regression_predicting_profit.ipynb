{
  "nbformat": 4,
  "nbformat_minor": 0,
  "metadata": {
    "colab": {
      "provenance": [],
      "mount_file_id": "1czLxMLDc8xcAncF5QTaCqSIyQvUFEmCF",
      "authorship_tag": "ABX9TyPjYdWWXtOzhJTKIMQcaeDD",
      "include_colab_link": true
    },
    "kernelspec": {
      "name": "python3",
      "display_name": "Python 3"
    },
    "language_info": {
      "name": "python"
    }
  },
  "cells": [
    {
      "cell_type": "markdown",
      "metadata": {
        "id": "view-in-github",
        "colab_type": "text"
      },
      "source": [
        "<a href=\"https://colab.research.google.com/github/makgogo/Makgogo-Mphela/blob/main/ML_multiple_linear_regression_predicting_profit.ipynb\" target=\"_parent\"><img src=\"https://colab.research.google.com/assets/colab-badge.svg\" alt=\"Open In Colab\"/></a>"
      ]
    },
    {
      "cell_type": "markdown",
      "source": [
        "## Profit estimation of the company\n",
        "\n"
      ],
      "metadata": {
        "id": "Pe9m4zKmFrjF"
      }
    },
    {
      "cell_type": "markdown",
      "source": [
        "A venture capital firm is trying to understand which companies should they invest"
      ],
      "metadata": {
        "id": "Y4ejY5MLIRpT"
      }
    },
    {
      "cell_type": "markdown",
      "source": [
        "Lets brake down the problem statement into pieces\n",
        "\n",
        "- Decide companies to invest\n",
        "- Predict the profit company make\n",
        "- Based on companies expenses/expenditure and location (\n",
        "     R & D Spend ,\n",
        "     Administration ,\n",
        "     Marketing Spend,\n",
        "     State )\n",
        "- Calculate Profit"
      ],
      "metadata": {
        "id": "Ibh_j9V6IqhB"
      }
    },
    {
      "cell_type": "markdown",
      "source": [
        "## 1. Reading and Understanding the Data"
      ],
      "metadata": {
        "id": "vBObYFjZSSkq"
      }
    },
    {
      "cell_type": "markdown",
      "source": [
        "importing the libraries"
      ],
      "metadata": {
        "id": "umbPnRcba51d"
      }
    },
    {
      "cell_type": "code",
      "source": [
        "#basic libraries and visualization\n",
        "import pandas as pd\n",
        "import numpy as np\n",
        "import matplotlib.pyplot as plt\n",
        "import seaborn as sns\n",
        "#statmodels\n",
        "import statsmodels.api as sm\n",
        "from statsmodels.stats.outliers_influence import variance_inflation_factor\n",
        "#sklearn-dataprocessing\n",
        "from sklearn.model_selection import train_test_split, cross_val_score, GridSearchCV\n",
        "from sklearn.feature_selection import f_regression\n",
        "from sklearn.compose import ColumnTransformer\n",
        "from sklearn.preprocessing import PolynomialFeatures, StandardScaler, OneHotEncoder\n",
        "from sklearn.metrics import r2_score, mean_squared_error\n",
        "#sklearn-models\n",
        "from sklearn.linear_model import LinearRegression, Ridge\n",
        "from sklearn.svm import SVR\n",
        "from sklearn.tree import DecisionTreeRegressor\n",
        "from sklearn.ensemble import RandomForestRegressor"
      ],
      "metadata": {
        "id": "eVmLnLWLX33X"
      },
      "execution_count": null,
      "outputs": []
    },
    {
      "cell_type": "code",
      "source": [
        "import warnings\n",
        "warnings.filterwarnings('ignore')"
      ],
      "metadata": {
        "id": "2eJm0D9gYQjs"
      },
      "execution_count": null,
      "outputs": []
    },
    {
      "cell_type": "code",
      "source": [
        "sns.set_theme(style='darkgrid', palette='Accent')\n",
        "pd.options.display.float_format = '{:,.2f}'.format"
      ],
      "metadata": {
        "id": "59dRdiIFYUXY"
      },
      "execution_count": null,
      "outputs": []
    },
    {
      "cell_type": "markdown",
      "source": [
        "load dataset"
      ],
      "metadata": {
        "id": "ahddZEDEdyZo"
      }
    },
    {
      "cell_type": "code",
      "source": [
        "companies_data = pd.read_csv(\"/content/1000_Companies.csv\")"
      ],
      "metadata": {
        "id": "jctfVz8Md1wy"
      },
      "execution_count": null,
      "outputs": []
    },
    {
      "cell_type": "code",
      "source": [
        "companies_data.head()"
      ],
      "metadata": {
        "colab": {
          "base_uri": "https://localhost:8080/",
          "height": 206
        },
        "id": "B7ojRms7Q0VQ",
        "outputId": "7ff563b7-c106-4a52-e52a-b19ebceb0f3f"
      },
      "execution_count": null,
      "outputs": [
        {
          "output_type": "execute_result",
          "data": {
            "text/plain": [
              "   R&D Spend  Administration  Marketing Spend       State     Profit\n",
              "0 165,349.20      136,897.80       471,784.10    New York 192,261.83\n",
              "1 162,597.70      151,377.59       443,898.53  California 191,792.06\n",
              "2 153,441.51      101,145.55       407,934.54     Florida 191,050.39\n",
              "3 144,372.41      118,671.85       383,199.62    New York 182,901.99\n",
              "4 142,107.34       91,391.77       366,168.42     Florida 166,187.94"
            ],
            "text/html": [
              "\n",
              "  <div id=\"df-210699fc-ee22-48ca-85ee-a03860bef841\" class=\"colab-df-container\">\n",
              "    <div>\n",
              "<style scoped>\n",
              "    .dataframe tbody tr th:only-of-type {\n",
              "        vertical-align: middle;\n",
              "    }\n",
              "\n",
              "    .dataframe tbody tr th {\n",
              "        vertical-align: top;\n",
              "    }\n",
              "\n",
              "    .dataframe thead th {\n",
              "        text-align: right;\n",
              "    }\n",
              "</style>\n",
              "<table border=\"1\" class=\"dataframe\">\n",
              "  <thead>\n",
              "    <tr style=\"text-align: right;\">\n",
              "      <th></th>\n",
              "      <th>R&amp;D Spend</th>\n",
              "      <th>Administration</th>\n",
              "      <th>Marketing Spend</th>\n",
              "      <th>State</th>\n",
              "      <th>Profit</th>\n",
              "    </tr>\n",
              "  </thead>\n",
              "  <tbody>\n",
              "    <tr>\n",
              "      <th>0</th>\n",
              "      <td>165,349.20</td>\n",
              "      <td>136,897.80</td>\n",
              "      <td>471,784.10</td>\n",
              "      <td>New York</td>\n",
              "      <td>192,261.83</td>\n",
              "    </tr>\n",
              "    <tr>\n",
              "      <th>1</th>\n",
              "      <td>162,597.70</td>\n",
              "      <td>151,377.59</td>\n",
              "      <td>443,898.53</td>\n",
              "      <td>California</td>\n",
              "      <td>191,792.06</td>\n",
              "    </tr>\n",
              "    <tr>\n",
              "      <th>2</th>\n",
              "      <td>153,441.51</td>\n",
              "      <td>101,145.55</td>\n",
              "      <td>407,934.54</td>\n",
              "      <td>Florida</td>\n",
              "      <td>191,050.39</td>\n",
              "    </tr>\n",
              "    <tr>\n",
              "      <th>3</th>\n",
              "      <td>144,372.41</td>\n",
              "      <td>118,671.85</td>\n",
              "      <td>383,199.62</td>\n",
              "      <td>New York</td>\n",
              "      <td>182,901.99</td>\n",
              "    </tr>\n",
              "    <tr>\n",
              "      <th>4</th>\n",
              "      <td>142,107.34</td>\n",
              "      <td>91,391.77</td>\n",
              "      <td>366,168.42</td>\n",
              "      <td>Florida</td>\n",
              "      <td>166,187.94</td>\n",
              "    </tr>\n",
              "  </tbody>\n",
              "</table>\n",
              "</div>\n",
              "    <div class=\"colab-df-buttons\">\n",
              "\n",
              "  <div class=\"colab-df-container\">\n",
              "    <button class=\"colab-df-convert\" onclick=\"convertToInteractive('df-210699fc-ee22-48ca-85ee-a03860bef841')\"\n",
              "            title=\"Convert this dataframe to an interactive table.\"\n",
              "            style=\"display:none;\">\n",
              "\n",
              "  <svg xmlns=\"http://www.w3.org/2000/svg\" height=\"24px\" viewBox=\"0 -960 960 960\">\n",
              "    <path d=\"M120-120v-720h720v720H120Zm60-500h600v-160H180v160Zm220 220h160v-160H400v160Zm0 220h160v-160H400v160ZM180-400h160v-160H180v160Zm440 0h160v-160H620v160ZM180-180h160v-160H180v160Zm440 0h160v-160H620v160Z\"/>\n",
              "  </svg>\n",
              "    </button>\n",
              "\n",
              "  <style>\n",
              "    .colab-df-container {\n",
              "      display:flex;\n",
              "      gap: 12px;\n",
              "    }\n",
              "\n",
              "    .colab-df-convert {\n",
              "      background-color: #E8F0FE;\n",
              "      border: none;\n",
              "      border-radius: 50%;\n",
              "      cursor: pointer;\n",
              "      display: none;\n",
              "      fill: #1967D2;\n",
              "      height: 32px;\n",
              "      padding: 0 0 0 0;\n",
              "      width: 32px;\n",
              "    }\n",
              "\n",
              "    .colab-df-convert:hover {\n",
              "      background-color: #E2EBFA;\n",
              "      box-shadow: 0px 1px 2px rgba(60, 64, 67, 0.3), 0px 1px 3px 1px rgba(60, 64, 67, 0.15);\n",
              "      fill: #174EA6;\n",
              "    }\n",
              "\n",
              "    .colab-df-buttons div {\n",
              "      margin-bottom: 4px;\n",
              "    }\n",
              "\n",
              "    [theme=dark] .colab-df-convert {\n",
              "      background-color: #3B4455;\n",
              "      fill: #D2E3FC;\n",
              "    }\n",
              "\n",
              "    [theme=dark] .colab-df-convert:hover {\n",
              "      background-color: #434B5C;\n",
              "      box-shadow: 0px 1px 3px 1px rgba(0, 0, 0, 0.15);\n",
              "      filter: drop-shadow(0px 1px 2px rgba(0, 0, 0, 0.3));\n",
              "      fill: #FFFFFF;\n",
              "    }\n",
              "  </style>\n",
              "\n",
              "    <script>\n",
              "      const buttonEl =\n",
              "        document.querySelector('#df-210699fc-ee22-48ca-85ee-a03860bef841 button.colab-df-convert');\n",
              "      buttonEl.style.display =\n",
              "        google.colab.kernel.accessAllowed ? 'block' : 'none';\n",
              "\n",
              "      async function convertToInteractive(key) {\n",
              "        const element = document.querySelector('#df-210699fc-ee22-48ca-85ee-a03860bef841');\n",
              "        const dataTable =\n",
              "          await google.colab.kernel.invokeFunction('convertToInteractive',\n",
              "                                                    [key], {});\n",
              "        if (!dataTable) return;\n",
              "\n",
              "        const docLinkHtml = 'Like what you see? Visit the ' +\n",
              "          '<a target=\"_blank\" href=https://colab.research.google.com/notebooks/data_table.ipynb>data table notebook</a>'\n",
              "          + ' to learn more about interactive tables.';\n",
              "        element.innerHTML = '';\n",
              "        dataTable['output_type'] = 'display_data';\n",
              "        await google.colab.output.renderOutput(dataTable, element);\n",
              "        const docLink = document.createElement('div');\n",
              "        docLink.innerHTML = docLinkHtml;\n",
              "        element.appendChild(docLink);\n",
              "      }\n",
              "    </script>\n",
              "  </div>\n",
              "\n",
              "\n",
              "<div id=\"df-f1e385f3-93f7-4b29-b282-c07debc91600\">\n",
              "  <button class=\"colab-df-quickchart\" onclick=\"quickchart('df-f1e385f3-93f7-4b29-b282-c07debc91600')\"\n",
              "            title=\"Suggest charts\"\n",
              "            style=\"display:none;\">\n",
              "\n",
              "<svg xmlns=\"http://www.w3.org/2000/svg\" height=\"24px\"viewBox=\"0 0 24 24\"\n",
              "     width=\"24px\">\n",
              "    <g>\n",
              "        <path d=\"M19 3H5c-1.1 0-2 .9-2 2v14c0 1.1.9 2 2 2h14c1.1 0 2-.9 2-2V5c0-1.1-.9-2-2-2zM9 17H7v-7h2v7zm4 0h-2V7h2v10zm4 0h-2v-4h2v4z\"/>\n",
              "    </g>\n",
              "</svg>\n",
              "  </button>\n",
              "\n",
              "<style>\n",
              "  .colab-df-quickchart {\n",
              "      --bg-color: #E8F0FE;\n",
              "      --fill-color: #1967D2;\n",
              "      --hover-bg-color: #E2EBFA;\n",
              "      --hover-fill-color: #174EA6;\n",
              "      --disabled-fill-color: #AAA;\n",
              "      --disabled-bg-color: #DDD;\n",
              "  }\n",
              "\n",
              "  [theme=dark] .colab-df-quickchart {\n",
              "      --bg-color: #3B4455;\n",
              "      --fill-color: #D2E3FC;\n",
              "      --hover-bg-color: #434B5C;\n",
              "      --hover-fill-color: #FFFFFF;\n",
              "      --disabled-bg-color: #3B4455;\n",
              "      --disabled-fill-color: #666;\n",
              "  }\n",
              "\n",
              "  .colab-df-quickchart {\n",
              "    background-color: var(--bg-color);\n",
              "    border: none;\n",
              "    border-radius: 50%;\n",
              "    cursor: pointer;\n",
              "    display: none;\n",
              "    fill: var(--fill-color);\n",
              "    height: 32px;\n",
              "    padding: 0;\n",
              "    width: 32px;\n",
              "  }\n",
              "\n",
              "  .colab-df-quickchart:hover {\n",
              "    background-color: var(--hover-bg-color);\n",
              "    box-shadow: 0 1px 2px rgba(60, 64, 67, 0.3), 0 1px 3px 1px rgba(60, 64, 67, 0.15);\n",
              "    fill: var(--button-hover-fill-color);\n",
              "  }\n",
              "\n",
              "  .colab-df-quickchart-complete:disabled,\n",
              "  .colab-df-quickchart-complete:disabled:hover {\n",
              "    background-color: var(--disabled-bg-color);\n",
              "    fill: var(--disabled-fill-color);\n",
              "    box-shadow: none;\n",
              "  }\n",
              "\n",
              "  .colab-df-spinner {\n",
              "    border: 2px solid var(--fill-color);\n",
              "    border-color: transparent;\n",
              "    border-bottom-color: var(--fill-color);\n",
              "    animation:\n",
              "      spin 1s steps(1) infinite;\n",
              "  }\n",
              "\n",
              "  @keyframes spin {\n",
              "    0% {\n",
              "      border-color: transparent;\n",
              "      border-bottom-color: var(--fill-color);\n",
              "      border-left-color: var(--fill-color);\n",
              "    }\n",
              "    20% {\n",
              "      border-color: transparent;\n",
              "      border-left-color: var(--fill-color);\n",
              "      border-top-color: var(--fill-color);\n",
              "    }\n",
              "    30% {\n",
              "      border-color: transparent;\n",
              "      border-left-color: var(--fill-color);\n",
              "      border-top-color: var(--fill-color);\n",
              "      border-right-color: var(--fill-color);\n",
              "    }\n",
              "    40% {\n",
              "      border-color: transparent;\n",
              "      border-right-color: var(--fill-color);\n",
              "      border-top-color: var(--fill-color);\n",
              "    }\n",
              "    60% {\n",
              "      border-color: transparent;\n",
              "      border-right-color: var(--fill-color);\n",
              "    }\n",
              "    80% {\n",
              "      border-color: transparent;\n",
              "      border-right-color: var(--fill-color);\n",
              "      border-bottom-color: var(--fill-color);\n",
              "    }\n",
              "    90% {\n",
              "      border-color: transparent;\n",
              "      border-bottom-color: var(--fill-color);\n",
              "    }\n",
              "  }\n",
              "</style>\n",
              "\n",
              "  <script>\n",
              "    async function quickchart(key) {\n",
              "      const quickchartButtonEl =\n",
              "        document.querySelector('#' + key + ' button');\n",
              "      quickchartButtonEl.disabled = true;  // To prevent multiple clicks.\n",
              "      quickchartButtonEl.classList.add('colab-df-spinner');\n",
              "      try {\n",
              "        const charts = await google.colab.kernel.invokeFunction(\n",
              "            'suggestCharts', [key], {});\n",
              "      } catch (error) {\n",
              "        console.error('Error during call to suggestCharts:', error);\n",
              "      }\n",
              "      quickchartButtonEl.classList.remove('colab-df-spinner');\n",
              "      quickchartButtonEl.classList.add('colab-df-quickchart-complete');\n",
              "    }\n",
              "    (() => {\n",
              "      let quickchartButtonEl =\n",
              "        document.querySelector('#df-f1e385f3-93f7-4b29-b282-c07debc91600 button');\n",
              "      quickchartButtonEl.style.display =\n",
              "        google.colab.kernel.accessAllowed ? 'block' : 'none';\n",
              "    })();\n",
              "  </script>\n",
              "</div>\n",
              "    </div>\n",
              "  </div>\n"
            ]
          },
          "metadata": {},
          "execution_count": 5
        }
      ]
    },
    {
      "cell_type": "markdown",
      "source": [
        "About dataset:` dataset contains five(5) columns namely: R&D spend,Administration,Marketing Spend,State and Profit`\n",
        "\n",
        "-R&D Spend:\n",
        "`R&D Spend, short for Research and Development Spending, represents the amount of money a company invests in research and development activities. This includes expenses related to innovation, product development, and technological advancements.`\n",
        "\n",
        "-Administration:\n",
        "`Administration refers to the costs associated with running the day-to-day operations of a business. This column typically includes expenses like employee salaries, office rent, utilities, and other overhead costs that are necessary for the company's administrative functions`.\n",
        "\n",
        "-Marketing Spend:\n",
        "`Marketing Spend represents the funds allocated for marketing activities, including advertising, promotions, and campaigns. It encompasses the expenses aimed at promoting the company's products or services to attract and retain customers.`\n",
        "\n",
        "-State:\n",
        "`State indicates the geographical location or state where the company is based or operates. It's useful for identifying the specific region or jurisdiction in which the company is situated, which can have implications for regulatory compliance and market dynamics.`\n",
        "\n",
        "-Profit:\n",
        "`Profit signifies the financial gain a business achieves when its total revenue exceeds its total expenses. It is a critical indicator of a company's financial performance and reflects its ability to generate earnings after covering all costs.`"
      ],
      "metadata": {
        "id": "kzML0CErrhHI"
      }
    },
    {
      "cell_type": "code",
      "source": [
        "companies_data.info()"
      ],
      "metadata": {
        "colab": {
          "base_uri": "https://localhost:8080/"
        },
        "id": "kNZP0DZAYtQi",
        "outputId": "11fd1242-e58a-4e87-ec61-b852c200e786"
      },
      "execution_count": null,
      "outputs": [
        {
          "output_type": "stream",
          "name": "stdout",
          "text": [
            "<class 'pandas.core.frame.DataFrame'>\n",
            "RangeIndex: 1000 entries, 0 to 999\n",
            "Data columns (total 5 columns):\n",
            " #   Column           Non-Null Count  Dtype  \n",
            "---  ------           --------------  -----  \n",
            " 0   R&D Spend        1000 non-null   float64\n",
            " 1   Administration   1000 non-null   float64\n",
            " 2   Marketing Spend  1000 non-null   float64\n",
            " 3   State            1000 non-null   object \n",
            " 4   Profit           1000 non-null   float64\n",
            "dtypes: float64(4), object(1)\n",
            "memory usage: 39.2+ KB\n"
          ]
        }
      ]
    },
    {
      "cell_type": "code",
      "source": [
        "companies_data.shape"
      ],
      "metadata": {
        "colab": {
          "base_uri": "https://localhost:8080/"
        },
        "id": "NjcWPPtPh908",
        "outputId": "a1d371f4-5478-42d8-ec7e-9cfe8724f9e2"
      },
      "execution_count": null,
      "outputs": [
        {
          "output_type": "execute_result",
          "data": {
            "text/plain": [
              "(1000, 5)"
            ]
          },
          "metadata": {},
          "execution_count": 7
        }
      ]
    },
    {
      "cell_type": "code",
      "source": [
        "companies_data.columns"
      ],
      "metadata": {
        "colab": {
          "base_uri": "https://localhost:8080/"
        },
        "id": "ZHqVNmiBjM_A",
        "outputId": "e9ba8ddc-b48b-4631-a000-e1d4642005f4"
      },
      "execution_count": null,
      "outputs": [
        {
          "output_type": "execute_result",
          "data": {
            "text/plain": [
              "Index(['R&D Spend', 'Administration', 'Marketing Spend', 'State', 'Profit'], dtype='object')"
            ]
          },
          "metadata": {},
          "execution_count": 8
        }
      ]
    },
    {
      "cell_type": "code",
      "source": [
        "companies_data['State'].unique()"
      ],
      "metadata": {
        "colab": {
          "base_uri": "https://localhost:8080/"
        },
        "id": "-NjxVRtxfiDz",
        "outputId": "1165c279-27cc-4049-9a54-c60a8ea8165f"
      },
      "execution_count": null,
      "outputs": [
        {
          "output_type": "execute_result",
          "data": {
            "text/plain": [
              "array(['New York', 'California', 'Florida'], dtype=object)"
            ]
          },
          "metadata": {},
          "execution_count": 9
        }
      ]
    },
    {
      "cell_type": "markdown",
      "source": [
        "` This column contain three states which is Califonia,Newyork and Floida.`"
      ],
      "metadata": {
        "id": "sR4-HocXUF31"
      }
    },
    {
      "cell_type": "code",
      "source": [
        "companies_data.dtypes"
      ],
      "metadata": {
        "colab": {
          "base_uri": "https://localhost:8080/"
        },
        "id": "5pE5lXcZja9f",
        "outputId": "5e174e42-2943-4d3c-d3a9-b467e8c34211"
      },
      "execution_count": null,
      "outputs": [
        {
          "output_type": "execute_result",
          "data": {
            "text/plain": [
              "R&D Spend          float64\n",
              "Administration     float64\n",
              "Marketing Spend    float64\n",
              "State               object\n",
              "Profit             float64\n",
              "dtype: object"
            ]
          },
          "metadata": {},
          "execution_count": 10
        }
      ]
    },
    {
      "cell_type": "code",
      "source": [
        "companies_data['State'] = companies_data['State'].astype('category')"
      ],
      "metadata": {
        "id": "09L_hgC6jk-f"
      },
      "execution_count": null,
      "outputs": []
    },
    {
      "cell_type": "code",
      "source": [
        "companies_data['State'].dtypes"
      ],
      "metadata": {
        "colab": {
          "base_uri": "https://localhost:8080/"
        },
        "id": "YT_KlRXZkQf-",
        "outputId": "80fa5051-c63e-4e9b-f1db-ca14a1a24878"
      },
      "execution_count": null,
      "outputs": [
        {
          "output_type": "execute_result",
          "data": {
            "text/plain": [
              "CategoricalDtype(categories=['California', 'Florida', 'New York'], ordered=False)"
            ]
          },
          "metadata": {},
          "execution_count": 12
        }
      ]
    },
    {
      "cell_type": "markdown",
      "source": [
        "## 2. Data Cleaning"
      ],
      "metadata": {
        "id": "iy_gaDGADbpt"
      }
    },
    {
      "cell_type": "code",
      "source": [
        "companies_data.isnull().sum()"
      ],
      "metadata": {
        "colab": {
          "base_uri": "https://localhost:8080/"
        },
        "id": "17Y85DNnlPp5",
        "outputId": "12b6bdb0-4fcc-4979-ecd6-4b2b735cc6ac"
      },
      "execution_count": null,
      "outputs": [
        {
          "output_type": "execute_result",
          "data": {
            "text/plain": [
              "R&D Spend          0\n",
              "Administration     0\n",
              "Marketing Spend    0\n",
              "State              0\n",
              "Profit             0\n",
              "dtype: int64"
            ]
          },
          "metadata": {},
          "execution_count": 13
        }
      ]
    },
    {
      "cell_type": "markdown",
      "source": [
        "`From the above we can say that there is no null values present!`"
      ],
      "metadata": {
        "id": "SO_XMWJxegGV"
      }
    },
    {
      "cell_type": "code",
      "source": [
        "companies_data.duplicated().any().sum()"
      ],
      "metadata": {
        "colab": {
          "base_uri": "https://localhost:8080/"
        },
        "id": "VSs7kzJrZHLQ",
        "outputId": "347b28a2-0527-4095-9a0e-ada5579a4aab"
      },
      "execution_count": null,
      "outputs": [
        {
          "output_type": "execute_result",
          "data": {
            "text/plain": [
              "1"
            ]
          },
          "metadata": {},
          "execution_count": 14
        }
      ]
    },
    {
      "cell_type": "code",
      "source": [
        "\n",
        "# Drop duplicate rows based on all columns\n",
        "companies_data_no_duplicates = companies_data.drop_duplicates()\n",
        "\n",
        "print(\"Original DataFrame:\")\n",
        "print(companies_data)\n",
        "\n",
        "print(\"\\nDataFrame with Duplicates Removed:\")\n",
        "print(companies_data_no_duplicates)\n"
      ],
      "metadata": {
        "colab": {
          "base_uri": "https://localhost:8080/"
        },
        "id": "ziDeFPSOcdpo",
        "outputId": "ea4ed249-c8a9-40cb-d0f7-966730ae4913"
      },
      "execution_count": null,
      "outputs": [
        {
          "output_type": "stream",
          "name": "stdout",
          "text": [
            "Original DataFrame:\n",
            "     R&D Spend  Administration  Marketing Spend       State     Profit\n",
            "0   165,349.20      136,897.80       471,784.10    New York 192,261.83\n",
            "1   162,597.70      151,377.59       443,898.53  California 191,792.06\n",
            "2   153,441.51      101,145.55       407,934.54     Florida 191,050.39\n",
            "3   144,372.41      118,671.85       383,199.62    New York 182,901.99\n",
            "4   142,107.34       91,391.77       366,168.42     Florida 166,187.94\n",
            "..         ...             ...              ...         ...        ...\n",
            "995  54,135.00      118,452.00       173,232.67  California  95,279.96\n",
            "996 134,970.00      130,390.08       329,204.02  California 164,336.61\n",
            "997 100,275.47      241,926.31       227,142.82  California 413,956.48\n",
            "998 128,456.23      321,652.14       281,692.32  California 333,962.19\n",
            "999 161,181.72      270,939.86       295,442.17    New York 476,485.43\n",
            "\n",
            "[1000 rows x 5 columns]\n",
            "\n",
            "DataFrame with Duplicates Removed:\n",
            "     R&D Spend  Administration  Marketing Spend       State     Profit\n",
            "0   165,349.20      136,897.80       471,784.10    New York 192,261.83\n",
            "1   162,597.70      151,377.59       443,898.53  California 191,792.06\n",
            "2   153,441.51      101,145.55       407,934.54     Florida 191,050.39\n",
            "3   144,372.41      118,671.85       383,199.62    New York 182,901.99\n",
            "4   142,107.34       91,391.77       366,168.42     Florida 166,187.94\n",
            "..         ...             ...              ...         ...        ...\n",
            "995  54,135.00      118,452.00       173,232.67  California  95,279.96\n",
            "996 134,970.00      130,390.08       329,204.02  California 164,336.61\n",
            "997 100,275.47      241,926.31       227,142.82  California 413,956.48\n",
            "998 128,456.23      321,652.14       281,692.32  California 333,962.19\n",
            "999 161,181.72      270,939.86       295,442.17    New York 476,485.43\n",
            "\n",
            "[999 rows x 5 columns]\n"
          ]
        }
      ]
    },
    {
      "cell_type": "code",
      "source": [
        "companies_data.shape , companies_data_no_duplicates.shape"
      ],
      "metadata": {
        "colab": {
          "base_uri": "https://localhost:8080/"
        },
        "id": "rqOQZP2Tc-zn",
        "outputId": "9bc30aa1-97f1-4e91-a65d-58726babfbaf"
      },
      "execution_count": null,
      "outputs": [
        {
          "output_type": "execute_result",
          "data": {
            "text/plain": [
              "((1000, 5), (999, 5))"
            ]
          },
          "metadata": {},
          "execution_count": 16
        }
      ]
    },
    {
      "cell_type": "markdown",
      "source": [
        "## 3. EDA"
      ],
      "metadata": {
        "id": "p8yqbMgEEI8G"
      }
    },
    {
      "cell_type": "markdown",
      "source": [
        "Checking for outliers"
      ],
      "metadata": {
        "id": "hYqWLqdWd03m"
      }
    },
    {
      "cell_type": "code",
      "source": [
        "companies_data_no_duplicates.columns.values"
      ],
      "metadata": {
        "colab": {
          "base_uri": "https://localhost:8080/"
        },
        "id": "A70QhN0sZ_gs",
        "outputId": "0a21e185-5545-4359-af3d-fda5db5c6a54"
      },
      "execution_count": null,
      "outputs": [
        {
          "output_type": "execute_result",
          "data": {
            "text/plain": [
              "array(['R&D Spend', 'Administration', 'Marketing Spend', 'State',\n",
              "       'Profit'], dtype=object)"
            ]
          },
          "metadata": {},
          "execution_count": 17
        }
      ]
    },
    {
      "cell_type": "code",
      "source": [
        "sns.boxplot(data=companies_data_no_duplicates)"
      ],
      "metadata": {
        "colab": {
          "base_uri": "https://localhost:8080/",
          "height": 457
        },
        "id": "DGQroMGEaXwi",
        "outputId": "79651b5b-15ca-4715-b7d1-438d8ab64c58"
      },
      "execution_count": null,
      "outputs": [
        {
          "output_type": "execute_result",
          "data": {
            "text/plain": [
              "<Axes: >"
            ]
          },
          "metadata": {},
          "execution_count": 18
        },
        {
          "output_type": "display_data",
          "data": {
            "text/plain": [
              "<Figure size 640x480 with 1 Axes>"
            ],
            "image/png": "[encoded data removed]"
          },
          "metadata": {}
        }
      ]
    },
    {
      "cell_type": "markdown",
      "source": [
        "`we have extreme values on Administration and Profit column`"
      ],
      "metadata": {
        "id": "zSo_fAV9u5z1"
      }
    },
    {
      "cell_type": "markdown",
      "source": [
        "Removing outliears"
      ],
      "metadata": {
        "id": "hr5SosMCvQdu"
      }
    },
    {
      "cell_type": "code",
      "source": [
        "# Calculate Q1 and Q3 for the \"Administration\" and \"Profit\" columns\n",
        "Q3, Q1 = np.percentile(companies_data_no_duplicates[[\"Administration\",\"Marketing Spend\", \"Profit\"]], [75, 25])\n",
        "\n",
        "# Calculate the IQR\n",
        "IQR = Q3 - Q1\n",
        "\n",
        "# Define the lower and upper bounds for outliers\n",
        "lower_bound = Q1 - 1.5 * IQR\n",
        "upper_bound = Q3 + 1.5 * IQR\n",
        "\n",
        "# Remove outliers based on the specified bounds for each column\n",
        "companies_data_no_duplicates = companies_data_no_duplicates[\n",
        "    (companies_data_no_duplicates[\"Administration\"] >= lower_bound) &\n",
        "    (companies_data_no_duplicates[\"Administration\"] <= upper_bound) &\n",
        "    (companies_data_no_duplicates[\"Profit\"] >= lower_bound) &\n",
        "    (companies_data_no_duplicates[\"Profit\"] <= upper_bound)\n",
        "\n",
        "]\n"
      ],
      "metadata": {
        "id": "vp5ggn9isISF"
      },
      "execution_count": null,
      "outputs": []
    },
    {
      "cell_type": "code",
      "source": [
        "companies_data.shape , companies_data_no_duplicates.shape"
      ],
      "metadata": {
        "colab": {
          "base_uri": "https://localhost:8080/"
        },
        "id": "QP8JYpAnwa-l",
        "outputId": "c2e52bb5-ed87-4363-8eb2-9722261f79d8"
      },
      "execution_count": null,
      "outputs": [
        {
          "output_type": "execute_result",
          "data": {
            "text/plain": [
              "((1000, 5), (995, 5))"
            ]
          },
          "metadata": {},
          "execution_count": 20
        }
      ]
    },
    {
      "cell_type": "code",
      "source": [
        "sns.boxplot(data=companies_data_no_duplicates)"
      ],
      "metadata": {
        "colab": {
          "base_uri": "https://localhost:8080/",
          "height": 451
        },
        "id": "yfpY1S1one-9",
        "outputId": "3c714fa6-e0d1-458d-d1bb-cec6827dea14"
      },
      "execution_count": null,
      "outputs": [
        {
          "output_type": "execute_result",
          "data": {
            "text/plain": [
              "<Axes: >"
            ]
          },
          "metadata": {},
          "execution_count": 21
        },
        {
          "output_type": "display_data",
          "data": {
            "text/plain": [
              "<Figure size 640x480 with 1 Axes>"
            ],
            "image/png": "[encoded data removed]"
          },
          "metadata": {}
        }
      ]
    },
    {
      "cell_type": "code",
      "source": [
        "companies_data_no_duplicates.describe()"
      ],
      "metadata": {
        "colab": {
          "base_uri": "https://localhost:8080/",
          "height": 300
        },
        "id": "jjFG-AL103e9",
        "outputId": "c4df6980-e78c-4221-e1d5-c56e1ce69611"
      },
      "execution_count": null,
      "outputs": [
        {
          "output_type": "execute_result",
          "data": {
            "text/plain": [
              "       R&D Spend  Administration  Marketing Spend     Profit\n",
              "count     995.00          995.00           995.00     995.00\n",
              "mean   81,602.49      122,501.96       226,255.00 118,779.73\n",
              "std    46,486.62        9,147.68        91,585.27  39,691.39\n",
              "min         0.00       51,283.14             0.00  35,673.41\n",
              "25%    43,081.00      116,635.11       150,727.91  85,909.67\n",
              "50%    79,611.00      122,402.27       223,872.47 117,354.00\n",
              "75%   124,232.00      129,076.94       309,181.57 155,163.22\n",
              "max   165,349.20      182,645.56       471,784.10 192,261.83"
            ],
            "text/html": [
              "\n",
              "  <div id=\"df-f9af293f-0ce3-405c-8eae-440cf6b6b145\" class=\"colab-df-container\">\n",
              "    <div>\n",
              "<style scoped>\n",
              "    .dataframe tbody tr th:only-of-type {\n",
              "        vertical-align: middle;\n",
              "    }\n",
              "\n",
              "    .dataframe tbody tr th {\n",
              "        vertical-align: top;\n",
              "    }\n",
              "\n",
              "    .dataframe thead th {\n",
              "        text-align: right;\n",
              "    }\n",
              "</style>\n",
              "<table border=\"1\" class=\"dataframe\">\n",
              "  <thead>\n",
              "    <tr style=\"text-align: right;\">\n",
              "      <th></th>\n",
              "      <th>R&amp;D Spend</th>\n",
              "      <th>Administration</th>\n",
              "      <th>Marketing Spend</th>\n",
              "      <th>Profit</th>\n",
              "    </tr>\n",
              "  </thead>\n",
              "  <tbody>\n",
              "    <tr>\n",
              "      <th>count</th>\n",
              "      <td>995.00</td>\n",
              "      <td>995.00</td>\n",
              "      <td>995.00</td>\n",
              "      <td>995.00</td>\n",
              "    </tr>\n",
              "    <tr>\n",
              "      <th>mean</th>\n",
              "      <td>81,602.49</td>\n",
              "      <td>122,501.96</td>\n",
              "      <td>226,255.00</td>\n",
              "      <td>118,779.73</td>\n",
              "    </tr>\n",
              "    <tr>\n",
              "      <th>std</th>\n",
              "      <td>46,486.62</td>\n",
              "      <td>9,147.68</td>\n",
              "      <td>91,585.27</td>\n",
              "      <td>39,691.39</td>\n",
              "    </tr>\n",
              "    <tr>\n",
              "      <th>min</th>\n",
              "      <td>0.00</td>\n",
              "      <td>51,283.14</td>\n",
              "      <td>0.00</td>\n",
              "      <td>35,673.41</td>\n",
              "    </tr>\n",
              "    <tr>\n",
              "      <th>25%</th>\n",
              "      <td>43,081.00</td>\n",
              "      <td>116,635.11</td>\n",
              "      <td>150,727.91</td>\n",
              "      <td>85,909.67</td>\n",
              "    </tr>\n",
              "    <tr>\n",
              "      <th>50%</th>\n",
              "      <td>79,611.00</td>\n",
              "      <td>122,402.27</td>\n",
              "      <td>223,872.47</td>\n",
              "      <td>117,354.00</td>\n",
              "    </tr>\n",
              "    <tr>\n",
              "      <th>75%</th>\n",
              "      <td>124,232.00</td>\n",
              "      <td>129,076.94</td>\n",
              "      <td>309,181.57</td>\n",
              "      <td>155,163.22</td>\n",
              "    </tr>\n",
              "    <tr>\n",
              "      <th>max</th>\n",
              "      <td>165,349.20</td>\n",
              "      <td>182,645.56</td>\n",
              "      <td>471,784.10</td>\n",
              "      <td>192,261.83</td>\n",
              "    </tr>\n",
              "  </tbody>\n",
              "</table>\n",
              "</div>\n",
              "    <div class=\"colab-df-buttons\">\n",
              "\n",
              "  <div class=\"colab-df-container\">\n",
              "    <button class=\"colab-df-convert\" onclick=\"convertToInteractive('df-f9af293f-0ce3-405c-8eae-440cf6b6b145')\"\n",
              "            title=\"Convert this dataframe to an interactive table.\"\n",
              "            style=\"display:none;\">\n",
              "\n",
              "  <svg xmlns=\"http://www.w3.org/2000/svg\" height=\"24px\" viewBox=\"0 -960 960 960\">\n",
              "    <path d=\"M120-120v-720h720v720H120Zm60-500h600v-160H180v160Zm220 220h160v-160H400v160Zm0 220h160v-160H400v160ZM180-400h160v-160H180v160Zm440 0h160v-160H620v160ZM180-180h160v-160H180v160Zm440 0h160v-160H620v160Z\"/>\n",
              "  </svg>\n",
              "    </button>\n",
              "\n",
              "  <style>\n",
              "    .colab-df-container {\n",
              "      display:flex;\n",
              "      gap: 12px;\n",
              "    }\n",
              "\n",
              "    .colab-df-convert {\n",
              "      background-color: #E8F0FE;\n",
              "      border: none;\n",
              "      border-radius: 50%;\n",
              "      cursor: pointer;\n",
              "      display: none;\n",
              "      fill: #1967D2;\n",
              "      height: 32px;\n",
              "      padding: 0 0 0 0;\n",
              "      width: 32px;\n",
              "    }\n",
              "\n",
              "    .colab-df-convert:hover {\n",
              "      background-color: #E2EBFA;\n",
              "      box-shadow: 0px 1px 2px rgba(60, 64, 67, 0.3), 0px 1px 3px 1px rgba(60, 64, 67, 0.15);\n",
              "      fill: #174EA6;\n",
              "    }\n",
              "\n",
              "    .colab-df-buttons div {\n",
              "      margin-bottom: 4px;\n",
              "    }\n",
              "\n",
              "    [theme=dark] .colab-df-convert {\n",
              "      background-color: #3B4455;\n",
              "      fill: #D2E3FC;\n",
              "    }\n",
              "\n",
              "    [theme=dark] .colab-df-convert:hover {\n",
              "      background-color: #434B5C;\n",
              "      box-shadow: 0px 1px 3px 1px rgba(0, 0, 0, 0.15);\n",
              "      filter: drop-shadow(0px 1px 2px rgba(0, 0, 0, 0.3));\n",
              "      fill: #FFFFFF;\n",
              "    }\n",
              "  </style>\n",
              "\n",
              "    <script>\n",
              "      const buttonEl =\n",
              "        document.querySelector('#df-f9af293f-0ce3-405c-8eae-440cf6b6b145 button.colab-df-convert');\n",
              "      buttonEl.style.display =\n",
              "        google.colab.kernel.accessAllowed ? 'block' : 'none';\n",
              "\n",
              "      async function convertToInteractive(key) {\n",
              "        const element = document.querySelector('#df-f9af293f-0ce3-405c-8eae-440cf6b6b145');\n",
              "        const dataTable =\n",
              "          await google.colab.kernel.invokeFunction('convertToInteractive',\n",
              "                                                    [key], {});\n",
              "        if (!dataTable) return;\n",
              "\n",
              "        const docLinkHtml = 'Like what you see? Visit the ' +\n",
              "          '<a target=\"_blank\" href=https://colab.research.google.com/notebooks/data_table.ipynb>data table notebook</a>'\n",
              "          + ' to learn more about interactive tables.';\n",
              "        element.innerHTML = '';\n",
              "        dataTable['output_type'] = 'display_data';\n",
              "        await google.colab.output.renderOutput(dataTable, element);\n",
              "        const docLink = document.createElement('div');\n",
              "        docLink.innerHTML = docLinkHtml;\n",
              "        element.appendChild(docLink);\n",
              "      }\n",
              "    </script>\n",
              "  </div>\n",
              "\n",
              "\n",
              "<div id=\"df-20d801fc-9a87-4707-bfd0-cbb403360465\">\n",
              "  <button class=\"colab-df-quickchart\" onclick=\"quickchart('df-20d801fc-9a87-4707-bfd0-cbb403360465')\"\n",
              "            title=\"Suggest charts\"\n",
              "            style=\"display:none;\">\n",
              "\n",
              "<svg xmlns=\"http://www.w3.org/2000/svg\" height=\"24px\"viewBox=\"0 0 24 24\"\n",
              "     width=\"24px\">\n",
              "    <g>\n",
              "        <path d=\"M19 3H5c-1.1 0-2 .9-2 2v14c0 1.1.9 2 2 2h14c1.1 0 2-.9 2-2V5c0-1.1-.9-2-2-2zM9 17H7v-7h2v7zm4 0h-2V7h2v10zm4 0h-2v-4h2v4z\"/>\n",
              "    </g>\n",
              "</svg>\n",
              "  </button>\n",
              "\n",
              "<style>\n",
              "  .colab-df-quickchart {\n",
              "      --bg-color: #E8F0FE;\n",
              "      --fill-color: #1967D2;\n",
              "      --hover-bg-color: #E2EBFA;\n",
              "      --hover-fill-color: #174EA6;\n",
              "      --disabled-fill-color: #AAA;\n",
              "      --disabled-bg-color: #DDD;\n",
              "  }\n",
              "\n",
              "  [theme=dark] .colab-df-quickchart {\n",
              "      --bg-color: #3B4455;\n",
              "      --fill-color: #D2E3FC;\n",
              "      --hover-bg-color: #434B5C;\n",
              "      --hover-fill-color: #FFFFFF;\n",
              "      --disabled-bg-color: #3B4455;\n",
              "      --disabled-fill-color: #666;\n",
              "  }\n",
              "\n",
              "  .colab-df-quickchart {\n",
              "    background-color: var(--bg-color);\n",
              "    border: none;\n",
              "    border-radius: 50%;\n",
              "    cursor: pointer;\n",
              "    display: none;\n",
              "    fill: var(--fill-color);\n",
              "    height: 32px;\n",
              "    padding: 0;\n",
              "    width: 32px;\n",
              "  }\n",
              "\n",
              "  .colab-df-quickchart:hover {\n",
              "    background-color: var(--hover-bg-color);\n",
              "    box-shadow: 0 1px 2px rgba(60, 64, 67, 0.3), 0 1px 3px 1px rgba(60, 64, 67, 0.15);\n",
              "    fill: var(--button-hover-fill-color);\n",
              "  }\n",
              "\n",
              "  .colab-df-quickchart-complete:disabled,\n",
              "  .colab-df-quickchart-complete:disabled:hover {\n",
              "    background-color: var(--disabled-bg-color);\n",
              "    fill: var(--disabled-fill-color);\n",
              "    box-shadow: none;\n",
              "  }\n",
              "\n",
              "  .colab-df-spinner {\n",
              "    border: 2px solid var(--fill-color);\n",
              "    border-color: transparent;\n",
              "    border-bottom-color: var(--fill-color);\n",
              "    animation:\n",
              "      spin 1s steps(1) infinite;\n",
              "  }\n",
              "\n",
              "  @keyframes spin {\n",
              "    0% {\n",
              "      border-color: transparent;\n",
              "      border-bottom-color: var(--fill-color);\n",
              "      border-left-color: var(--fill-color);\n",
              "    }\n",
              "    20% {\n",
              "      border-color: transparent;\n",
              "      border-left-color: var(--fill-color);\n",
              "      border-top-color: var(--fill-color);\n",
              "    }\n",
              "    30% {\n",
              "      border-color: transparent;\n",
              "      border-left-color: var(--fill-color);\n",
              "      border-top-color: var(--fill-color);\n",
              "      border-right-color: var(--fill-color);\n",
              "    }\n",
              "    40% {\n",
              "      border-color: transparent;\n",
              "      border-right-color: var(--fill-color);\n",
              "      border-top-color: var(--fill-color);\n",
              "    }\n",
              "    60% {\n",
              "      border-color: transparent;\n",
              "      border-right-color: var(--fill-color);\n",
              "    }\n",
              "    80% {\n",
              "      border-color: transparent;\n",
              "      border-right-color: var(--fill-color);\n",
              "      border-bottom-color: var(--fill-color);\n",
              "    }\n",
              "    90% {\n",
              "      border-color: transparent;\n",
              "      border-bottom-color: var(--fill-color);\n",
              "    }\n",
              "  }\n",
              "</style>\n",
              "\n",
              "  <script>\n",
              "    async function quickchart(key) {\n",
              "      const quickchartButtonEl =\n",
              "        document.querySelector('#' + key + ' button');\n",
              "      quickchartButtonEl.disabled = true;  // To prevent multiple clicks.\n",
              "      quickchartButtonEl.classList.add('colab-df-spinner');\n",
              "      try {\n",
              "        const charts = await google.colab.kernel.invokeFunction(\n",
              "            'suggestCharts', [key], {});\n",
              "      } catch (error) {\n",
              "        console.error('Error during call to suggestCharts:', error);\n",
              "      }\n",
              "      quickchartButtonEl.classList.remove('colab-df-spinner');\n",
              "      quickchartButtonEl.classList.add('colab-df-quickchart-complete');\n",
              "    }\n",
              "    (() => {\n",
              "      let quickchartButtonEl =\n",
              "        document.querySelector('#df-20d801fc-9a87-4707-bfd0-cbb403360465 button');\n",
              "      quickchartButtonEl.style.display =\n",
              "        google.colab.kernel.accessAllowed ? 'block' : 'none';\n",
              "    })();\n",
              "  </script>\n",
              "</div>\n",
              "    </div>\n",
              "  </div>\n"
            ]
          },
          "metadata": {},
          "execution_count": 22
        }
      ]
    },
    {
      "cell_type": "markdown",
      "source": [
        "## Data Visualization"
      ],
      "metadata": {
        "id": "8bj9zwin0vX2"
      }
    },
    {
      "cell_type": "code",
      "source": [
        "# Building correlation matrix\n",
        "sns.heatmap(companies_data.corr())"
      ],
      "metadata": {
        "colab": {
          "base_uri": "https://localhost:8080/",
          "height": 572
        },
        "id": "PedgI3HJ1Cky",
        "outputId": "5de3f4ad-16b3-42f3-c987-56ea24c9d86a"
      },
      "execution_count": null,
      "outputs": [
        {
          "output_type": "execute_result",
          "data": {
            "text/plain": [
              "<Axes: >"
            ]
          },
          "metadata": {},
          "execution_count": 23
        },
        {
          "output_type": "display_data",
          "data": {
            "text/plain": [
              "<Figure size 640x480 with 2 Axes>"
            ],
            "image/png": "[encoded data removed]"
          },
          "metadata": {}
        }
      ]
    },
    {
      "cell_type": "markdown",
      "source": [
        "Lets Analyse the relationship between Dependent variable with other independent variable..."
      ],
      "metadata": {
        "id": "-RDAwDK3xnS1"
      }
    },
    {
      "cell_type": "code",
      "source": [
        "#Plot R&D vs Profit............\n",
        "x1 = companies_data_no_duplicates.iloc[:, 0].values\n",
        "y1 = companies_data_no_duplicates.iloc[:, -1].values\n",
        "plt.scatter(x1,y1,color='Green',s=50)\n",
        "plt.xlabel('R&D')\n",
        "plt.ylabel('Profit')\n",
        "plt.title('R&D vs Profit')\n",
        "plt.show()"
      ],
      "metadata": {
        "colab": {
          "base_uri": "https://localhost:8080/",
          "height": 480
        },
        "id": "PKtH9O-HxyrC",
        "outputId": "35bf379d-d0ae-4de0-ab6d-6aa200987b96"
      },
      "execution_count": null,
      "outputs": [
        {
          "output_type": "display_data",
          "data": {
            "text/plain": [
              "<Figure size 640x480 with 1 Axes>"
            ],
            "image/png": "[encoded data removed]"
          },
          "metadata": {}
        }
      ]
    },
    {
      "cell_type": "markdown",
      "source": [
        "`From the above plot we can able to visualize that R&D and Profit has positive correlation.`"
      ],
      "metadata": {
        "id": "S09yB9dMyNZl"
      }
    },
    {
      "cell_type": "code",
      "source": [
        "#Plot Administration vs Profit............\n",
        "x1 = companies_data_no_duplicates.iloc[:, 1].values\n",
        "y1 = companies_data_no_duplicates.iloc[:, -1].values\n",
        "plt.scatter(x1,y1,color='Red',s=50)\n",
        "plt.xlabel('Administration')\n",
        "plt.ylabel('Profit')\n",
        "plt.title('Administration vs Profit')\n",
        "plt.show()"
      ],
      "metadata": {
        "colab": {
          "base_uri": "https://localhost:8080/",
          "height": 480
        },
        "id": "Y1MyqPa-ypVX",
        "outputId": "d4a99cb9-88d2-4380-8f48-42549338bd93"
      },
      "execution_count": null,
      "outputs": [
        {
          "output_type": "display_data",
          "data": {
            "text/plain": [
              "<Figure size 640x480 with 1 Axes>"
            ],
            "image/png": "[encoded data removed]"
          },
          "metadata": {}
        }
      ]
    },
    {
      "cell_type": "markdown",
      "source": [
        "`From above plot - Zero correlation between Administration and Profit.`"
      ],
      "metadata": {
        "id": "tL1_Z7WyzFAs"
      }
    },
    {
      "cell_type": "code",
      "source": [
        "#Plot Marketing Spend vs Profit\n",
        "x1 = companies_data_no_duplicates.iloc[:, 2].values\n",
        "y1 = companies_data_no_duplicates.iloc[:, -1].values\n",
        "plt.scatter(x1,y1,color='Black',s=50)\n",
        "plt.xlabel('Marketing Spend')\n",
        "plt.ylabel('Profit')\n",
        "plt.title('Marketing Spend vs Profit')\n",
        "plt.show()"
      ],
      "metadata": {
        "colab": {
          "base_uri": "https://localhost:8080/",
          "height": 480
        },
        "id": "Ftc_qb2EzIg1",
        "outputId": "3c0475ae-b8cd-4e42-9bd7-2961a251dfeb"
      },
      "execution_count": null,
      "outputs": [
        {
          "output_type": "display_data",
          "data": {
            "text/plain": [
              "<Figure size 640x480 with 1 Axes>"
            ],
            "image/png": "[encoded data removed]"
          },
          "metadata": {}
        }
      ]
    },
    {
      "cell_type": "markdown",
      "source": [
        "`From above plot -High correlation between Marketing Spend and Profit.`"
      ],
      "metadata": {
        "id": "BAcPU3cazXsO"
      }
    },
    {
      "cell_type": "code",
      "source": [
        "#Plot State vs Profit\n",
        "x1 = companies_data_no_duplicates.iloc[:, 3].values\n",
        "y1 = companies_data_no_duplicates.iloc[:, -1].values\n",
        "plt.scatter(x1,y1,color='Blue',s=50)\n",
        "plt.xlabel('State')\n",
        "plt.ylabel('Profit')\n",
        "plt.title('State vs Profit')\n",
        "plt.show()"
      ],
      "metadata": {
        "colab": {
          "base_uri": "https://localhost:8080/",
          "height": 480
        },
        "id": "0gIzxU4P0DkO",
        "outputId": "f0866456-ab73-4083-882e-3b008630f5e4"
      },
      "execution_count": null,
      "outputs": [
        {
          "output_type": "display_data",
          "data": {
            "text/plain": [
              "<Figure size 640x480 with 1 Axes>"
            ],
            "image/png": "[encoded data removed]"
          },
          "metadata": {}
        }
      ]
    },
    {
      "cell_type": "markdown",
      "source": [
        "Visualising Numerical Variables"
      ],
      "metadata": {
        "id": "dkM3wzKmv3LI"
      }
    },
    {
      "cell_type": "code",
      "source": [
        "sns.pairplot(companies_data_no_duplicates[['R&D Spend', 'Administration', 'Marketing Spend', 'Profit']], kind=\"reg\", diag_kind=\"kde\")\n",
        "plt.show()"
      ],
      "metadata": {
        "colab": {
          "base_uri": "https://localhost:8080/",
          "height": 827
        },
        "id": "w4uvb7O5n9tS",
        "outputId": "0d598c31-f9df-422f-ce4b-b3271b33af2c"
      },
      "execution_count": null,
      "outputs": [
        {
          "output_type": "display_data",
          "data": {
            "text/plain": [
              "<Figure size 1000x1000 with 20 Axes>"
            ],
            "image/png": "[encoded data removed]"
          },
          "metadata": {}
        }
      ]
    },
    {
      "cell_type": "markdown",
      "source": [
        "insights\n",
        "\n",
        "`- R&D Spend and Marketing Spend are in linear relation with target variable(profit)`"
      ],
      "metadata": {
        "id": "R3ajssXPxQj_"
      }
    },
    {
      "cell_type": "markdown",
      "source": [
        "Profit Distribution"
      ],
      "metadata": {
        "id": "t58fGu4Tx1DG"
      }
    },
    {
      "cell_type": "code",
      "source": [
        "sns.distplot(companies_data_no_duplicates[\"Profit\"], bins=30)\n",
        "plt.show()"
      ],
      "metadata": {
        "colab": {
          "base_uri": "https://localhost:8080/",
          "height": 474
        },
        "id": "hB3wRFIkoKIj",
        "outputId": "1b7c9b61-f6df-4dc9-97f2-06a8efba93cc"
      },
      "execution_count": null,
      "outputs": [
        {
          "output_type": "display_data",
          "data": {
            "text/plain": [
              "<Figure size 640x480 with 1 Axes>"
            ],
            "image/png": "[encoded data removed]"
          },
          "metadata": {}
        }
      ]
    },
    {
      "cell_type": "markdown",
      "source": [
        "R&D Spend vs. Profit Correlation"
      ],
      "metadata": {
        "id": "DPK4dDIpyLRq"
      }
    },
    {
      "cell_type": "code",
      "source": [
        "sns.jointplot(x=companies_data_no_duplicates[\"Profit\"], y=companies_data_no_duplicates[\"R&D Spend\"], kind=\"reg\")\n",
        "plt.show()"
      ],
      "metadata": {
        "colab": {
          "base_uri": "https://localhost:8080/",
          "height": 601
        },
        "id": "Jdf54SiSyNT_",
        "outputId": "05c082c7-d751-411f-9db1-733bb083caa4"
      },
      "execution_count": null,
      "outputs": [
        {
          "output_type": "display_data",
          "data": {
            "text/plain": [
              "<Figure size 600x600 with 3 Axes>"
            ],
            "image/png": "[encoded data removed]"
          },
          "metadata": {}
        }
      ]
    },
    {
      "cell_type": "markdown",
      "source": [
        "Visualising Categorical Variables"
      ],
      "metadata": {
        "id": "HOSICuw-yvjo"
      }
    },
    {
      "cell_type": "code",
      "source": [
        "g=sns.FacetGrid(data=companies_data_no_duplicates, col=\"State\", height=5, aspect=0.7)\n",
        "g.map_dataframe(sns.barplot, palette=\"Accent\")\n",
        "g.set_xticklabels(rotation=45)\n",
        "plt.grid(True)\n",
        "plt.show()"
      ],
      "metadata": {
        "colab": {
          "base_uri": "https://localhost:8080/",
          "height": 464
        },
        "id": "R3QOSYjmyoRu",
        "outputId": "49163301-fa31-43d3-bef9-502995cbe36f"
      },
      "execution_count": null,
      "outputs": [
        {
          "output_type": "display_data",
          "data": {
            "text/plain": [
              "<Figure size 1050x500 with 3 Axes>"
            ],
            "image/png": "[encoded data removed]"
          },
          "metadata": {}
        }
      ]
    },
    {
      "cell_type": "markdown",
      "source": [
        "insights:\n",
        "\n",
        "-Marketing Spend are higher at Florida than other states.\n",
        "\n",
        "-R&D Spend are same for all of the states.\n",
        "\n",
        "\n",
        "\n",
        "\n",
        "\n"
      ],
      "metadata": {
        "id": "g6l5PyxKzFBv"
      }
    },
    {
      "cell_type": "markdown",
      "source": [
        "## 4. Data Preparation/ Data Preprocessing"
      ],
      "metadata": {
        "id": "t6oh5_jD0cGU"
      }
    },
    {
      "cell_type": "code",
      "source": [
        "companies = companies_data_no_duplicates.copy()"
      ],
      "metadata": {
        "id": "P-vKZ6_gGW4-"
      },
      "execution_count": null,
      "outputs": []
    },
    {
      "cell_type": "code",
      "source": [
        "companies.head()"
      ],
      "metadata": {
        "colab": {
          "base_uri": "https://localhost:8080/",
          "height": 206
        },
        "id": "fsk22MDOG9Xx",
        "outputId": "0df210ae-45b5-4a94-8089-366f0f067f2b"
      },
      "execution_count": null,
      "outputs": [
        {
          "output_type": "execute_result",
          "data": {
            "text/plain": [
              "   R&D Spend  Administration  Marketing Spend       State     Profit\n",
              "0 165,349.20      136,897.80       471,784.10    New York 192,261.83\n",
              "1 162,597.70      151,377.59       443,898.53  California 191,792.06\n",
              "2 153,441.51      101,145.55       407,934.54     Florida 191,050.39\n",
              "3 144,372.41      118,671.85       383,199.62    New York 182,901.99\n",
              "4 142,107.34       91,391.77       366,168.42     Florida 166,187.94"
            ],
            "text/html": [
              "\n",
              "  <div id=\"df-6b6bbca1-817e-4bac-968c-fc6b50a8ccc6\" class=\"colab-df-container\">\n",
              "    <div>\n",
              "<style scoped>\n",
              "    .dataframe tbody tr th:only-of-type {\n",
              "        vertical-align: middle;\n",
              "    }\n",
              "\n",
              "    .dataframe tbody tr th {\n",
              "        vertical-align: top;\n",
              "    }\n",
              "\n",
              "    .dataframe thead th {\n",
              "        text-align: right;\n",
              "    }\n",
              "</style>\n",
              "<table border=\"1\" class=\"dataframe\">\n",
              "  <thead>\n",
              "    <tr style=\"text-align: right;\">\n",
              "      <th></th>\n",
              "      <th>R&amp;D Spend</th>\n",
              "      <th>Administration</th>\n",
              "      <th>Marketing Spend</th>\n",
              "      <th>State</th>\n",
              "      <th>Profit</th>\n",
              "    </tr>\n",
              "  </thead>\n",
              "  <tbody>\n",
              "    <tr>\n",
              "      <th>0</th>\n",
              "      <td>165,349.20</td>\n",
              "      <td>136,897.80</td>\n",
              "      <td>471,784.10</td>\n",
              "      <td>New York</td>\n",
              "      <td>192,261.83</td>\n",
              "    </tr>\n",
              "    <tr>\n",
              "      <th>1</th>\n",
              "      <td>162,597.70</td>\n",
              "      <td>151,377.59</td>\n",
              "      <td>443,898.53</td>\n",
              "      <td>California</td>\n",
              "      <td>191,792.06</td>\n",
              "    </tr>\n",
              "    <tr>\n",
              "      <th>2</th>\n",
              "      <td>153,441.51</td>\n",
              "      <td>101,145.55</td>\n",
              "      <td>407,934.54</td>\n",
              "      <td>Florida</td>\n",
              "      <td>191,050.39</td>\n",
              "    </tr>\n",
              "    <tr>\n",
              "      <th>3</th>\n",
              "      <td>144,372.41</td>\n",
              "      <td>118,671.85</td>\n",
              "      <td>383,199.62</td>\n",
              "      <td>New York</td>\n",
              "      <td>182,901.99</td>\n",
              "    </tr>\n",
              "    <tr>\n",
              "      <th>4</th>\n",
              "      <td>142,107.34</td>\n",
              "      <td>91,391.77</td>\n",
              "      <td>366,168.42</td>\n",
              "      <td>Florida</td>\n",
              "      <td>166,187.94</td>\n",
              "    </tr>\n",
              "  </tbody>\n",
              "</table>\n",
              "</div>\n",
              "    <div class=\"colab-df-buttons\">\n",
              "\n",
              "  <div class=\"colab-df-container\">\n",
              "    <button class=\"colab-df-convert\" onclick=\"convertToInteractive('df-6b6bbca1-817e-4bac-968c-fc6b50a8ccc6')\"\n",
              "            title=\"Convert this dataframe to an interactive table.\"\n",
              "            style=\"display:none;\">\n",
              "\n",
              "  <svg xmlns=\"http://www.w3.org/2000/svg\" height=\"24px\" viewBox=\"0 -960 960 960\">\n",
              "    <path d=\"M120-120v-720h720v720H120Zm60-500h600v-160H180v160Zm220 220h160v-160H400v160Zm0 220h160v-160H400v160ZM180-400h160v-160H180v160Zm440 0h160v-160H620v160ZM180-180h160v-160H180v160Zm440 0h160v-160H620v160Z\"/>\n",
              "  </svg>\n",
              "    </button>\n",
              "\n",
              "  <style>\n",
              "    .colab-df-container {\n",
              "      display:flex;\n",
              "      gap: 12px;\n",
              "    }\n",
              "\n",
              "    .colab-df-convert {\n",
              "      background-color: #E8F0FE;\n",
              "      border: none;\n",
              "      border-radius: 50%;\n",
              "      cursor: pointer;\n",
              "      display: none;\n",
              "      fill: #1967D2;\n",
              "      height: 32px;\n",
              "      padding: 0 0 0 0;\n",
              "      width: 32px;\n",
              "    }\n",
              "\n",
              "    .colab-df-convert:hover {\n",
              "      background-color: #E2EBFA;\n",
              "      box-shadow: 0px 1px 2px rgba(60, 64, 67, 0.3), 0px 1px 3px 1px rgba(60, 64, 67, 0.15);\n",
              "      fill: #174EA6;\n",
              "    }\n",
              "\n",
              "    .colab-df-buttons div {\n",
              "      margin-bottom: 4px;\n",
              "    }\n",
              "\n",
              "    [theme=dark] .colab-df-convert {\n",
              "      background-color: #3B4455;\n",
              "      fill: #D2E3FC;\n",
              "    }\n",
              "\n",
              "    [theme=dark] .colab-df-convert:hover {\n",
              "      background-color: #434B5C;\n",
              "      box-shadow: 0px 1px 3px 1px rgba(0, 0, 0, 0.15);\n",
              "      filter: drop-shadow(0px 1px 2px rgba(0, 0, 0, 0.3));\n",
              "      fill: #FFFFFF;\n",
              "    }\n",
              "  </style>\n",
              "\n",
              "    <script>\n",
              "      const buttonEl =\n",
              "        document.querySelector('#df-6b6bbca1-817e-4bac-968c-fc6b50a8ccc6 button.colab-df-convert');\n",
              "      buttonEl.style.display =\n",
              "        google.colab.kernel.accessAllowed ? 'block' : 'none';\n",
              "\n",
              "      async function convertToInteractive(key) {\n",
              "        const element = document.querySelector('#df-6b6bbca1-817e-4bac-968c-fc6b50a8ccc6');\n",
              "        const dataTable =\n",
              "          await google.colab.kernel.invokeFunction('convertToInteractive',\n",
              "                                                    [key], {});\n",
              "        if (!dataTable) return;\n",
              "\n",
              "        const docLinkHtml = 'Like what you see? Visit the ' +\n",
              "          '<a target=\"_blank\" href=https://colab.research.google.com/notebooks/data_table.ipynb>data table notebook</a>'\n",
              "          + ' to learn more about interactive tables.';\n",
              "        element.innerHTML = '';\n",
              "        dataTable['output_type'] = 'display_data';\n",
              "        await google.colab.output.renderOutput(dataTable, element);\n",
              "        const docLink = document.createElement('div');\n",
              "        docLink.innerHTML = docLinkHtml;\n",
              "        element.appendChild(docLink);\n",
              "      }\n",
              "    </script>\n",
              "  </div>\n",
              "\n",
              "\n",
              "<div id=\"df-93be51da-281e-4e53-abe0-0c33b017bb67\">\n",
              "  <button class=\"colab-df-quickchart\" onclick=\"quickchart('df-93be51da-281e-4e53-abe0-0c33b017bb67')\"\n",
              "            title=\"Suggest charts\"\n",
              "            style=\"display:none;\">\n",
              "\n",
              "<svg xmlns=\"http://www.w3.org/2000/svg\" height=\"24px\"viewBox=\"0 0 24 24\"\n",
              "     width=\"24px\">\n",
              "    <g>\n",
              "        <path d=\"M19 3H5c-1.1 0-2 .9-2 2v14c0 1.1.9 2 2 2h14c1.1 0 2-.9 2-2V5c0-1.1-.9-2-2-2zM9 17H7v-7h2v7zm4 0h-2V7h2v10zm4 0h-2v-4h2v4z\"/>\n",
              "    </g>\n",
              "</svg>\n",
              "  </button>\n",
              "\n",
              "<style>\n",
              "  .colab-df-quickchart {\n",
              "      --bg-color: #E8F0FE;\n",
              "      --fill-color: #1967D2;\n",
              "      --hover-bg-color: #E2EBFA;\n",
              "      --hover-fill-color: #174EA6;\n",
              "      --disabled-fill-color: #AAA;\n",
              "      --disabled-bg-color: #DDD;\n",
              "  }\n",
              "\n",
              "  [theme=dark] .colab-df-quickchart {\n",
              "      --bg-color: #3B4455;\n",
              "      --fill-color: #D2E3FC;\n",
              "      --hover-bg-color: #434B5C;\n",
              "      --hover-fill-color: #FFFFFF;\n",
              "      --disabled-bg-color: #3B4455;\n",
              "      --disabled-fill-color: #666;\n",
              "  }\n",
              "\n",
              "  .colab-df-quickchart {\n",
              "    background-color: var(--bg-color);\n",
              "    border: none;\n",
              "    border-radius: 50%;\n",
              "    cursor: pointer;\n",
              "    display: none;\n",
              "    fill: var(--fill-color);\n",
              "    height: 32px;\n",
              "    padding: 0;\n",
              "    width: 32px;\n",
              "  }\n",
              "\n",
              "  .colab-df-quickchart:hover {\n",
              "    background-color: var(--hover-bg-color);\n",
              "    box-shadow: 0 1px 2px rgba(60, 64, 67, 0.3), 0 1px 3px 1px rgba(60, 64, 67, 0.15);\n",
              "    fill: var(--button-hover-fill-color);\n",
              "  }\n",
              "\n",
              "  .colab-df-quickchart-complete:disabled,\n",
              "  .colab-df-quickchart-complete:disabled:hover {\n",
              "    background-color: var(--disabled-bg-color);\n",
              "    fill: var(--disabled-fill-color);\n",
              "    box-shadow: none;\n",
              "  }\n",
              "\n",
              "  .colab-df-spinner {\n",
              "    border: 2px solid var(--fill-color);\n",
              "    border-color: transparent;\n",
              "    border-bottom-color: var(--fill-color);\n",
              "    animation:\n",
              "      spin 1s steps(1) infinite;\n",
              "  }\n",
              "\n",
              "  @keyframes spin {\n",
              "    0% {\n",
              "      border-color: transparent;\n",
              "      border-bottom-color: var(--fill-color);\n",
              "      border-left-color: var(--fill-color);\n",
              "    }\n",
              "    20% {\n",
              "      border-color: transparent;\n",
              "      border-left-color: var(--fill-color);\n",
              "      border-top-color: var(--fill-color);\n",
              "    }\n",
              "    30% {\n",
              "      border-color: transparent;\n",
              "      border-left-color: var(--fill-color);\n",
              "      border-top-color: var(--fill-color);\n",
              "      border-right-color: var(--fill-color);\n",
              "    }\n",
              "    40% {\n",
              "      border-color: transparent;\n",
              "      border-right-color: var(--fill-color);\n",
              "      border-top-color: var(--fill-color);\n",
              "    }\n",
              "    60% {\n",
              "      border-color: transparent;\n",
              "      border-right-color: var(--fill-color);\n",
              "    }\n",
              "    80% {\n",
              "      border-color: transparent;\n",
              "      border-right-color: var(--fill-color);\n",
              "      border-bottom-color: var(--fill-color);\n",
              "    }\n",
              "    90% {\n",
              "      border-color: transparent;\n",
              "      border-bottom-color: var(--fill-color);\n",
              "    }\n",
              "  }\n",
              "</style>\n",
              "\n",
              "  <script>\n",
              "    async function quickchart(key) {\n",
              "      const quickchartButtonEl =\n",
              "        document.querySelector('#' + key + ' button');\n",
              "      quickchartButtonEl.disabled = true;  // To prevent multiple clicks.\n",
              "      quickchartButtonEl.classList.add('colab-df-spinner');\n",
              "      try {\n",
              "        const charts = await google.colab.kernel.invokeFunction(\n",
              "            'suggestCharts', [key], {});\n",
              "      } catch (error) {\n",
              "        console.error('Error during call to suggestCharts:', error);\n",
              "      }\n",
              "      quickchartButtonEl.classList.remove('colab-df-spinner');\n",
              "      quickchartButtonEl.classList.add('colab-df-quickchart-complete');\n",
              "    }\n",
              "    (() => {\n",
              "      let quickchartButtonEl =\n",
              "        document.querySelector('#df-93be51da-281e-4e53-abe0-0c33b017bb67 button');\n",
              "      quickchartButtonEl.style.display =\n",
              "        google.colab.kernel.accessAllowed ? 'block' : 'none';\n",
              "    })();\n",
              "  </script>\n",
              "</div>\n",
              "    </div>\n",
              "  </div>\n"
            ]
          },
          "metadata": {},
          "execution_count": 33
        }
      ]
    },
    {
      "cell_type": "markdown",
      "source": [
        "Defining input(x) and target variables(y)"
      ],
      "metadata": {
        "id": "noubIol2Xyk3"
      }
    },
    {
      "cell_type": "code",
      "source": [
        "# Extracting the dependent and independent variables, excluding the index column\n",
        "x = companies.iloc[:, :-1].values  # Exclude the first and the last column\n",
        "y = companies.iloc[:, 4].values   # Assuming you want the last column (index 4 in zero-based indexing)"
      ],
      "metadata": {
        "id": "kCBE7Qg1X1k5"
      },
      "execution_count": null,
      "outputs": []
    },
    {
      "cell_type": "code",
      "source": [
        "x"
      ],
      "metadata": {
        "colab": {
          "base_uri": "https://localhost:8080/"
        },
        "id": "rGk0Qv5pfqGR",
        "outputId": "7c35811f-9949-4ded-ac51-266a97230980"
      },
      "execution_count": null,
      "outputs": [
        {
          "output_type": "execute_result",
          "data": {
            "text/plain": [
              "array([[165349.2, 136897.8, 471784.1, 'New York'],\n",
              "       [162597.7, 151377.59, 443898.53, 'California'],\n",
              "       [153441.51, 101145.55, 407934.54, 'Florida'],\n",
              "       ...,\n",
              "       [97209.0, 124813.3635, 256344.0701, 'New York'],\n",
              "       [54135.0, 118451.999, 173232.6695, 'California'],\n",
              "       [134970.0, 130390.08, 329204.0228, 'California']], dtype=object)"
            ]
          },
          "metadata": {},
          "execution_count": 35
        }
      ]
    },
    {
      "cell_type": "code",
      "source": [
        "y"
      ],
      "metadata": {
        "colab": {
          "base_uri": "https://localhost:8080/"
        },
        "id": "lgk3jE_6fxux",
        "outputId": "baa0ec13-dfef-4ec4-ac0f-e4f5a4b84d65"
      },
      "execution_count": null,
      "outputs": [
        {
          "output_type": "execute_result",
          "data": {
            "text/plain": [
              "array([192261.83   , 191792.06   , 191050.39   , 182901.99   ,\n",
              "       166187.94   , 156991.12   , 156122.51   , 155752.6    ,\n",
              "       152211.77   , 149759.96   , 146121.95   , 144259.4    ,\n",
              "       141585.52   , 134307.35   , 132602.65   , 129917.04   ,\n",
              "       126992.93   , 125370.37   , 124266.9    , 122776.86   ,\n",
              "       118474.03   , 111313.02   , 110352.25   , 108733.99   ,\n",
              "       108552.04   , 107404.34   , 105733.54   , 105008.31   ,\n",
              "       103282.38   , 101004.64   ,  99937.59   ,  97483.56   ,\n",
              "        97427.84   ,  96778.92   ,  96712.8    ,  96479.51   ,\n",
              "        90708.19   ,  89949.14   ,  81229.06   ,  81005.76   ,\n",
              "        78239.91   ,  77798.83   ,  71498.49   ,  69758.98   ,\n",
              "        65200.33   ,  64926.08   ,  49490.75   ,  42559.73   ,\n",
              "        35673.41   , 123485.2464 ,  82155.48418, 125867.0108 ,\n",
              "       104976.1696 ,  89803.10053,  75297.23305, 114284.5283 ,\n",
              "       171985.0761 ,  72337.96774, 169566.5772 , 158670.9451 ,\n",
              "       114522.8756 ,  85842.60573, 101106.2297 ,  59328.81874,\n",
              "       157142.6178 ,  68669.64059, 177717.3712 ,  94409.4396 ,\n",
              "       183945.1553 ,  82484.38635, 144515.3371 , 105333.2634 ,\n",
              "       122331.0988 , 168459.4156 ,  60947.70089, 162733.9549 ,\n",
              "       181574.4968 ,  73577.54452,  84782.43014, 168870.3298 ,\n",
              "        72607.06952,  56788.15621,  67473.63267,  52731.98078,\n",
              "       140237.9002 , 166598.769  , 102990.7964 ,  78406.85364,\n",
              "       111764.3688 ,  63662.63887, 142575.2414 , 115980.2967 ,\n",
              "       132915.7689 , 155954.2985 , 167412.0544 ,  88710.46186,\n",
              "       164139.2642 , 131574.5314 , 169314.5613 ,  86636.24242,\n",
              "       177468.7724 , 157979.8234 ,  56944.49153,  98500.64098,\n",
              "        87218.86913, 178759.6067 , 101668.3534 , 151782.7938 ,\n",
              "        68872.96194, 139016.2635 ,  69109.60065,  55091.53354,\n",
              "       136286.8026 , 122307.1786 , 154356.7737 , 114806.5004 ,\n",
              "        55623.75707,  73896.1952 , 172901.7308 , 129480.6633 ,\n",
              "       115890.5961 , 169404.2619 , 161666.9449 ,  50116.99489,\n",
              "        86613.17655,  91640.68127, 138793.2935 , 128986.8828 ,\n",
              "       111461.9497 , 129804.4397 , 178847.5987 , 101028.4891 ,\n",
              "       136845.5092 ,  94579.44358, 148748.3508 ,  91139.21223,\n",
              "       173343.3994 , 175906.2735 , 112883.4905 , 138079.1059 ,\n",
              "        78689.62408, 140832.487  , 182316.0217 , 129232.9188 ,\n",
              "       152520.9015 , 133849.5093 , 169431.5992 , 109333.0556 ,\n",
              "       121505.8533 , 108917.0157 , 169324.8128 , 161423.4719 ,\n",
              "       171478.4813 , 137670.7546 , 105582.7164 , 141472.3512 ,\n",
              "       169572.5573 , 126993.8211 , 119743.4502 , 103155.6747 ,\n",
              "        86313.32028, 105674.9799 , 152268.8856 , 101971.6268 ,\n",
              "       166402.282  ,  84757.65569, 142289.0538 , 155518.6099 ,\n",
              "       177675.5109 , 111138.1732 , 142490.6665 ,  65814.59883,\n",
              "        88870.21435, 125271.5697 , 163462.6654 , 154539.592  ,\n",
              "       151150.6182 , 178296.5808 , 106401.1276 ,  76644.45054,\n",
              "       110228.3529 , 122570.3004 ,  54205.63339,  73850.06347,\n",
              "       117353.9972 ,  63814.70273,  67199.40514, 181391.6784 ,\n",
              "       181550.5766 , 156935.8793 , 181579.6225 ,  94376.97653,\n",
              "        76229.26494,  89583.54765, 176839.1597 , 113578.8837 ,\n",
              "        74477.11333,  88648.95289,  94066.01447, 146874.0356 ,\n",
              "       163549.8031 , 138872.7426 , 121482.7874 ,  89594.65343,\n",
              "        94297.52743, 159509.0049 ,  81169.63193, 117700.8395 ,\n",
              "        61393.64099, 169661.4036 , 171651.9025 , 128265.0066 ,\n",
              "        75270.75002, 109658.5406 , 145976.1753 ,  53395.76517,\n",
              "       144038.6425 ,  54300.45973,  58223.36571,  66007.66868,\n",
              "       121491.3304 ,  89915.86699, 182098.1774 ,  68160.48294,\n",
              "       136575.5531 , 111422.6523 , 141814.0678 ,  85830.64565,\n",
              "       121927.8732 ,  96616.9285 ,  90687.2921 , 155424.6379 ,\n",
              "       122954.7315 , 113188.4725 , 163883.8311 ,  68984.01982,\n",
              "        99306.23774,  52325.33808,  58694.93455,  80229.05713,\n",
              "       104723.2993 ,  51256.61958,  51336.06868,  53225.76119,\n",
              "        64672.41127, 173263.9503 , 155791.1289 , 118334.7237 ,\n",
              "        90164.46578, 140872.6387 , 116492.8715 ,  58918.75889,\n",
              "        64349.48913, 164375.9029 , 169059.9825 , 109663.6663 ,\n",
              "        68719.18949, 102833.6068 , 158338.6258 , 168686.6571 ,\n",
              "       170883.8945 ,  92949.45565, 110023.323  , 126506.0207 ,\n",
              "       130602.3478 , 117289.0711 , 117645.3106 , 148944.8378 ,\n",
              "       114970.5243 , 170174.8327 ,  92758.09438, 142762.3312 ,\n",
              "       168802.8408 ,  56138.89476, 160646.0668 , 162479.376  ,\n",
              "       146925.293  ,  61291.12602, 112642.5803 , 116273.3187 ,\n",
              "       109285.2152 , 103264.1697 ,  60111.34964,  55227.36587,\n",
              "        73733.02555,  98129.02423,  82589.46419, 168876.3098 ,\n",
              "       104996.6726 , 147736.0156 , 181512.1335 ,  95260.31381,\n",
              "        91977.27207, 126295.865  , 174329.2516 , 118265.5261 ,\n",
              "       153825.4044 ,  94093.35179, 167934.0264 , 103243.6667 ,\n",
              "       160935.6715 , 107019.6345 , 173336.5651 ,  73154.67029,\n",
              "       145877.9318 , 164180.2702 , 184632.0056 , 151992.0952 ,\n",
              "       100693.6069 , 180684.3252 ,  83391.64379, 121140.2166 ,\n",
              "        66656.07583, 123814.1486 , 150292.0553 , 159514.1307 ,\n",
              "        87019.81924,  96793.76682, 105154.7165 , 175999.3913 ,\n",
              "       169169.3318 , 182911.4628 , 134979.7368 ,  70244.95388,\n",
              "       169623.8148 , 135817.7966 ,  50070.86316,  60368.49134,\n",
              "       182028.1255 ,  92289.08842, 184555.1194 , 135591.4094 ,\n",
              "        73790.26307, 160667.424  , 121248.7116 , 135506.8346 ,\n",
              "       154351.6479 , 116529.6061 , 142869.1176 , 131062.8109 ,\n",
              "       165941.819  , 172384.0302 , 142712.7823 ,  91790.18226,\n",
              "       100435.6109 , 144750.2672 , 137468.2876 , 161824.1346 ,\n",
              "        92920.40974, 108421.5267 , 141046.0598 , 156147.3684 ,\n",
              "       182641.5067 , 150475.728  ,  79794.22283,  55832.20416,\n",
              "       152920.7099 , 145711.345  , 128195.809  ,  80504.99325,\n",
              "       172615.5432 , 102213.3913 ,  91240.87291, 158160.0789 ,\n",
              "        54244.9308 , 171176.9165 , 167377.0285 , 154029.5801 ,\n",
              "       105503.2673 ,  65204.63479,  65181.56893, 169235.1122 ,\n",
              "       144807.5047 , 171235.8626 ,  92485.57543, 161936.0467 ,\n",
              "       107910.6604 , 183965.6583 , 152134.7618 ,  51913.56964,\n",
              "        94320.5933 , 103906.5968 , 136632.7906 ,  72949.64036,\n",
              "        51690.5996 , 106212.3292 , 149849.5324 ,  64574.16776,\n",
              "       120375.6258 , 154765.9792 ,  86983.939  , 171557.9304 ,\n",
              "       157690.2186 ,  67839.26938, 175747.3753 ,  53177.92087,\n",
              "       123648.4161 ,  59636.36364, 105740.7603 , 165029.4358 ,\n",
              "       180633.922  , 126997.2382 , 171687.7827 , 125636.3521 ,\n",
              "        52225.38599,  59981.49735,  88971.02073,  63306.39937,\n",
              "        58666.74293,  77017.77587, 161008.2863 ,  77847.29279,\n",
              "        97478.0542 ,  85976.72948, 149792.2949 , 128937.3339 ,\n",
              "        80082.11902, 154238.8815 , 174414.6808 , 156182.3943 ,\n",
              "        71376.03566, 145680.5905 , 185028.3968 ,  68921.65655,\n",
              "       172937.611  , 150707.2409 , 185352.1732 , 106018.405  ,\n",
              "       131659.9605 , 114839.8177 ,  97372.12207,  78308.61013,\n",
              "        85769.13667, 126436.8231 ,  67226.74247, 174996.4532 ,\n",
              "        59225.44949, 102740.489  , 141180.1836 , 157325.4362 ,\n",
              "        90312.25819, 162440.0786 , 126117.3181 ,  58784.63514,\n",
              "       165530.0505 ,  90550.60548, 161123.6156 ,  87309.42402,\n",
              "        72735.21323,  97238.85262,  68648.28331, 157529.6118 ,\n",
              "        85529.93509,  80539.1649 , 163525.0287 , 139080.3354 ,\n",
              "       165186.6254 ,  68347.57275,  90544.62544,  88027.88306,\n",
              "        64997.04199, 184979.7022 ,  70555.91594,  91209.26412,\n",
              "       120790.8114 , 157615.041  , 145240.6305 ,  65085.034  ,\n",
              "        75968.70607, 181243.886  , 102274.046  , 167257.4277 ,\n",
              "        95537.9585 , 158961.4042 ,  80106.89347, 127075.833  ,\n",
              "       184887.4387 ,  67282.27141,  77242.4545 , 164713.348  ,\n",
              "        84909.71956, 160000.2225 ,  73872.27504, 101119.044  ,\n",
              "       107252.8561 , 117043.8895 , 155881.6838 , 141832.0079 ,\n",
              "        81963.26862, 142494.938  , 143333.8521 ,  72478.92582,\n",
              "       134122.8826 ,  57893.60924, 174050.7527 ,  66273.3533 ,\n",
              "       139130.7386 ,  99032.8645 , 141073.3972 , 156340.4382 ,\n",
              "        88072.30621, 126393.2542 ,  65664.24355, 134894.3077 ,\n",
              "       110963.8978 , 103171.0519 ,  84808.91317, 139555.3214 ,\n",
              "        68705.52083,  96214.55727,  98444.25774, 145073.1894 ,\n",
              "       138588.2636 , 138736.9103 ,  77629.44849, 135641.8126 ,\n",
              "        91657.76709, 169403.4076 , 133617.1421 ,  70509.78421,\n",
              "       124269.4859 ,  54119.34996, 174320.7087 , 151804.1511 ,\n",
              "       180524.5727 ,  54971.93275,  69995.5008 ,  77837.89559,\n",
              "       100556.066  , 184099.7821 , 151774.2509 , 153976.614  ,\n",
              "       183093.4268 ,  91843.14832,  59342.48741, 115751.3466 ,\n",
              "       108629.9738 , 182876.4368 , 143061.3332 , 176623.024  ,\n",
              "       154901.8116 , 181946.9678 ,  99906.80457,  77132.25091,\n",
              "       175771.2955 ,  78153.1291 ,  56852.22806, 169564.8687 ,\n",
              "        75445.02546, 148158.0355 , 144203.5207 , 142226.6905 ,\n",
              "       175396.2616 , 118130.5481 , 108776.0576 , 107382.7084 ,\n",
              "       120617.3903 , 150393.716  , 106070.5168 , 160842.5538 ,\n",
              "       146499.0017 ,  97712.98433, 125981.4858 ,  71885.19331,\n",
              "       130070.1243 , 104151.7784 , 106169.6146 , 147194.3948 ,\n",
              "       141527.0259 , 113981.2549 , 184581.6024 ,  54060.40386,\n",
              "        76376.20305,  99301.96628,  98464.76074, 174007.1838 ,\n",
              "       128337.6214 , 176344.525  , 107669.7503 ,  90482.26217,\n",
              "        79710.50227,  84583.38025, 166679.9267 ,  74052.53052,\n",
              "       129889.8688 ,  84552.62576, 131051.7051 , 116205.8296 ,\n",
              "        65471.1737 , 128060.831  , 127773.7891 , 108896.5127 ,\n",
              "       176833.1797 ,  54991.58145, 181929.0277 , 102873.7585 ,\n",
              "        57541.6412 ,  65513.03398, 162182.9369 ,  51671.80519,\n",
              "       138022.7227 , 180257.1795 ,  60408.64304, 178552.8682 ,\n",
              "       182059.7343 , 114403.2748 ,  85101.93511, 157086.2346 ,\n",
              "       150024.6621 , 127248.3999 , 154190.1869 , 126058.372  ,\n",
              "       138213.2296 , 101352.2656 , 100958.4372 ,  63373.88839,\n",
              "       179522.4889 , 184865.2271 , 102619.1797 , 175826.8244 ,\n",
              "       165119.1364 , 134268.9664 ,  61306.50327, 165495.0246 ,\n",
              "        77667.8916 , 154051.7917 , 111643.0594 , 106517.3112 ,\n",
              "        68575.66854, 155915.0011 , 124695.7773 , 172769.3156 ,\n",
              "       185068.5485 , 157591.1208 , 106865.8621 , 104824.1057 ,\n",
              "       120990.7156 ,  56620.7151 , 159613.2285 , 175705.515  ,\n",
              "        98776.57709, 165987.9507 ,  52609.81711, 117842.6519 ,\n",
              "        80045.38449,  80066.74177, 137719.4492 , 149477.9157 ,\n",
              "       180783.423  , 103404.2734 ,  88302.96488, 100992.6089 ,\n",
              "       141082.7944 , 142586.3472 , 175166.4572 ,  56991.47755,\n",
              "       109105.8141 , 167373.6113 , 153627.2089 , 126846.883  ,\n",
              "        76545.35274,  65255.03798, 171780.0462 , 118944.6878 ,\n",
              "       168285.1402 ,  95226.99644,  59264.74689, 163470.354  ,\n",
              "       162747.6235 ,  56775.34184,  79808.74578,  83356.61784,\n",
              "        74502.74207, 145965.9238 ,  59784.15604, 133834.1321 ,\n",
              "        71717.75221,  91441.63138, 164779.9827 ,  98397.27172,\n",
              "        92502.66126, 136315.8485 ,  79796.7857 , 144805.7962 ,\n",
              "        94294.11026, 100589.3834 ,  81824.87341,  64950.05596,\n",
              "       113472.9515 , 116685.0871 , 114373.3746 ,  99277.19183,\n",
              "       109998.5485 , 124765.8292 , 163155.1205 , 144820.3191 ,\n",
              "       139915.8323 ,  50468.96294,  92362.55748, 158565.8673 ,\n",
              "        79167.17296, 103903.1796 ,  98368.22581, 182202.4009 ,\n",
              "        70232.13951,  53483.75718, 120345.7256 , 143415.8641 ,\n",
              "        56789.0105 , 110848.5685 , 144287.2413 ,  90108.93684,\n",
              "        85570.94108,  98808.18587,  61960.03617, 127725.0945 ,\n",
              "        70282.5427 , 159431.2644 ,  50994.35213,  83632.55396,\n",
              "        88481.51178, 168402.1781 ,  87716.921  , 173519.3834 ,\n",
              "       177513.1956 , 181258.409  , 119914.3085 , 152243.2568 ,\n",
              "       142852.0318 , 176432.517  , 164424.5975 ,  57258.01646,\n",
              "       177442.2894 , 149190.8738 , 130689.4855 , 107994.381  ,\n",
              "       111257.774  , 123690.2763 , 163138.0347 ,  91370.72519,\n",
              "       166902.0425 ,  55641.69719,  58179.79685, 156545.4682 ,\n",
              "       104862.5488 , 181441.2273 , 164884.2062 , 132897.8287 ,\n",
              "        81580.54608, 127455.1384 , 116045.2229 , 161630.2104 ,\n",
              "       140594.1397 ,  51276.26828,  65868.41919,  60243.7648 ,\n",
              "        52276.64348, 162399.9269 ,  68210.88613, 119961.2945 ,\n",
              "        72657.47271, 182979.8061 , 112054.8279 ,  74208.01155,\n",
              "       164330.6254 , 174254.9283 , 119482.037  , 117637.622  ,\n",
              "       160252.2384 , 152175.7678 , 106433.5906 , 120445.6777 ,\n",
              "       141408.2794 ,  52086.1365 , 133019.1381 , 172966.6569 ,\n",
              "       163028.6854 , 109278.3809 , 144130.0517 , 140289.1577 ,\n",
              "       141273.3013 ,  57992.70704, 125971.2343 , 120723.3224 ,\n",
              "       128977.4856 ,  65219.15775, 100404.0021 , 177911.2954 ,\n",
              "       137842.4672 , 127909.6214 , 154173.101  , 170343.1281 ,\n",
              "        59766.21593,  90712.92084,  93280.9207 ,  87045.44798,\n",
              "        79170.59013, 181485.6505 , 174421.5151 ,  63924.90632,\n",
              "       140964.9022 ,  55195.75709, 140870.0758 , 169745.1241 ,\n",
              "        83444.60985, 185032.6682 , 168246.6971 , 156488.2307 ,\n",
              "       152900.2069 , 167391.5514 , 163226.881  , 130427.2181 ,\n",
              "        87219.72342, 125467.2024 , 173897.8345 , 142927.2094 ,\n",
              "        76356.55435, 158208.7735 ,  67733.33725,  97340.51329,\n",
              "       170464.4375 , 120738.6997 , 149669.2769 ,  79513.16096,\n",
              "       168145.8907 , 170465.2918 , 125667.9609 ,  63742.94226,\n",
              "       159389.4041 ,  72870.19126, 124577.0308 , 177000.6208 ,\n",
              "       166579.1203 , 143338.9779 , 169673.3637 ,  74324.19518,\n",
              "       184669.5944 , 136050.1639 , 184516.6762 ,  95065.53537,\n",
              "       170547.3037 , 146196.5825 , 109344.1613 , 150516.734  ,\n",
              "        55771.54948,  88082.55771, 109877.2392 , 185272.7241 ,\n",
              "        88592.56966,  86750.71746,  99201.1599 ,  97955.60308,\n",
              "       164695.4079 , 173531.3435 , 110363.331  , 144184.7263 ,\n",
              "       102771.2435 ,  87654.55773, 181102.0736 ,  64966.2875 ,\n",
              "       180257.1795 , 140589.8682 ,  71772.42685,  77627.73991,\n",
              "        51286.51978,  80859.52417,  86101.45602, 132471.5373 ,\n",
              "        50428.81124,  99424.12995,  97446.44542, 138908.6228 ,\n",
              "       148134.1153 , 159173.2684 ,  82229.80752, 100759.3874 ,\n",
              "       113444.7599 ,  62531.55709,  87112.08271, 128995.4258 ,\n",
              "        53649.48971, 104159.467  ,  63978.72668, 167407.783  ,\n",
              "       116603.0751 , 165584.7252 ,  88737.79919, 152894.2269 ,\n",
              "        64769.80049,  51324.1086 ,  57067.50948,  66357.07385,\n",
              "        71235.93187, 166415.9507 ,  57463.90068,  80804.84952,\n",
              "        70902.75824, 159247.5918 , 112487.9536 , 116260.5043 ,\n",
              "       121916.7675 , 161488.398  , 161456.7893 , 176018.1857 ,\n",
              "       118219.3944 , 134983.154  , 180378.4888 , 139722.7625 ,\n",
              "        84378.35032, 178978.3053 ,  97882.98831,  54932.63535,\n",
              "        95148.40164, 106235.395  , 103813.479  , 134723.4494 ,\n",
              "       174364.2776 ,  82522.82946,  65743.69265,  96581.04826,\n",
              "        70153.5447 ,  93606.40571, 151891.2888 ,  79299.58812,\n",
              "        83553.10486,  60650.40749, 123228.959  ,  52481.67341,\n",
              "       161467.0408 , 107682.5646 , 140522.3792 , 102118.5649 ,\n",
              "        57143.54142, 159227.0888 , 163673.6754 , 157493.7316 ,\n",
              "        91623.59544, 157949.9232 ,  94974.98049, 148975.5923 ,\n",
              "       158516.3184 , 110682.8359 , 146690.3629 ,  58605.23395,\n",
              "       120412.3603 , 161783.1286 ,  76487.26093,  95178.30183,\n",
              "       104231.2275 ,  58963.18204,  76017.40068,  59803.80475,\n",
              "       129642.9786 ,  51003.74933,  77362.05529, 185502.5285 ,\n",
              "       180753.5228 , 172495.0881 , 140251.5689 ,  63093.68082,\n",
              "       171416.9724 , 111814.772  , 123671.4819 ,  92903.32391,\n",
              "       105457.9899 ,  74425.00156, 173861.9543 ,  62223.15791,\n",
              "        60869.96038, 110395.794  , 161076.6296 , 107704.7762 ,\n",
              "       141344.2075 , 168760.9805 ,  97599.36358,  89558.7732 ,\n",
              "        99322.46927,  60065.21791, 102489.3274 ,  94400.89669,\n",
              "       154569.4922 ,  90808.60147, 138855.6568 , 103378.6447 ,\n",
              "       134808.0242 ,  84305.73556,  83178.92524,  86221.9111 ,\n",
              "       165330.1463 , 161035.6236 , 138841.9881 ,  89012.02672,\n",
              "       132077.709  ,  95279.96251, 164336.6055 ])"
            ]
          },
          "metadata": {},
          "execution_count": 36
        }
      ]
    },
    {
      "cell_type": "markdown",
      "source": [
        "Checking for multicollinearity"
      ],
      "metadata": {
        "id": "JpkdGGCYJETe"
      }
    },
    {
      "cell_type": "code",
      "source": [
        "numerical = companies.drop(columns=[\"State\", \"Profit\"])\n",
        "vif = pd.DataFrame()\n",
        "vif[\"Features\"] = numerical.columns\n",
        "vif[\"VIF\"] = [variance_inflation_factor(numerical.values, i) for i in range(numerical.shape[1])]\n",
        "vif[\"VIF\"] = round(vif[\"VIF\"], 2)\n",
        "vif = vif.sort_values(by = \"VIF\", ascending = False)\n",
        "vif"
      ],
      "metadata": {
        "colab": {
          "base_uri": "https://localhost:8080/",
          "height": 143
        },
        "id": "drpdLGlpm3s_",
        "outputId": "35870cd3-f85f-43e3-e65d-80b20c017012"
      },
      "execution_count": null,
      "outputs": [
        {
          "output_type": "execute_result",
          "data": {
            "text/plain": [
              "          Features    VIF\n",
              "2  Marketing Spend 146.69\n",
              "0        R&D Spend  80.00\n",
              "1   Administration  18.58"
            ],
            "text/html": [
              "\n",
              "  <div id=\"df-ae07c5bf-9741-4e42-bcd9-e755703e4476\" class=\"colab-df-container\">\n",
              "    <div>\n",
              "<style scoped>\n",
              "    .dataframe tbody tr th:only-of-type {\n",
              "        vertical-align: middle;\n",
              "    }\n",
              "\n",
              "    .dataframe tbody tr th {\n",
              "        vertical-align: top;\n",
              "    }\n",
              "\n",
              "    .dataframe thead th {\n",
              "        text-align: right;\n",
              "    }\n",
              "</style>\n",
              "<table border=\"1\" class=\"dataframe\">\n",
              "  <thead>\n",
              "    <tr style=\"text-align: right;\">\n",
              "      <th></th>\n",
              "      <th>Features</th>\n",
              "      <th>VIF</th>\n",
              "    </tr>\n",
              "  </thead>\n",
              "  <tbody>\n",
              "    <tr>\n",
              "      <th>2</th>\n",
              "      <td>Marketing Spend</td>\n",
              "      <td>146.69</td>\n",
              "    </tr>\n",
              "    <tr>\n",
              "      <th>0</th>\n",
              "      <td>R&amp;D Spend</td>\n",
              "      <td>80.00</td>\n",
              "    </tr>\n",
              "    <tr>\n",
              "      <th>1</th>\n",
              "      <td>Administration</td>\n",
              "      <td>18.58</td>\n",
              "    </tr>\n",
              "  </tbody>\n",
              "</table>\n",
              "</div>\n",
              "    <div class=\"colab-df-buttons\">\n",
              "\n",
              "  <div class=\"colab-df-container\">\n",
              "    <button class=\"colab-df-convert\" onclick=\"convertToInteractive('df-ae07c5bf-9741-4e42-bcd9-e755703e4476')\"\n",
              "            title=\"Convert this dataframe to an interactive table.\"\n",
              "            style=\"display:none;\">\n",
              "\n",
              "  <svg xmlns=\"http://www.w3.org/2000/svg\" height=\"24px\" viewBox=\"0 -960 960 960\">\n",
              "    <path d=\"M120-120v-720h720v720H120Zm60-500h600v-160H180v160Zm220 220h160v-160H400v160Zm0 220h160v-160H400v160ZM180-400h160v-160H180v160Zm440 0h160v-160H620v160ZM180-180h160v-160H180v160Zm440 0h160v-160H620v160Z\"/>\n",
              "  </svg>\n",
              "    </button>\n",
              "\n",
              "  <style>\n",
              "    .colab-df-container {\n",
              "      display:flex;\n",
              "      gap: 12px;\n",
              "    }\n",
              "\n",
              "    .colab-df-convert {\n",
              "      background-color: #E8F0FE;\n",
              "      border: none;\n",
              "      border-radius: 50%;\n",
              "      cursor: pointer;\n",
              "      display: none;\n",
              "      fill: #1967D2;\n",
              "      height: 32px;\n",
              "      padding: 0 0 0 0;\n",
              "      width: 32px;\n",
              "    }\n",
              "\n",
              "    .colab-df-convert:hover {\n",
              "      background-color: #E2EBFA;\n",
              "      box-shadow: 0px 1px 2px rgba(60, 64, 67, 0.3), 0px 1px 3px 1px rgba(60, 64, 67, 0.15);\n",
              "      fill: #174EA6;\n",
              "    }\n",
              "\n",
              "    .colab-df-buttons div {\n",
              "      margin-bottom: 4px;\n",
              "    }\n",
              "\n",
              "    [theme=dark] .colab-df-convert {\n",
              "      background-color: #3B4455;\n",
              "      fill: #D2E3FC;\n",
              "    }\n",
              "\n",
              "    [theme=dark] .colab-df-convert:hover {\n",
              "      background-color: #434B5C;\n",
              "      box-shadow: 0px 1px 3px 1px rgba(0, 0, 0, 0.15);\n",
              "      filter: drop-shadow(0px 1px 2px rgba(0, 0, 0, 0.3));\n",
              "      fill: #FFFFFF;\n",
              "    }\n",
              "  </style>\n",
              "\n",
              "    <script>\n",
              "      const buttonEl =\n",
              "        document.querySelector('#df-ae07c5bf-9741-4e42-bcd9-e755703e4476 button.colab-df-convert');\n",
              "      buttonEl.style.display =\n",
              "        google.colab.kernel.accessAllowed ? 'block' : 'none';\n",
              "\n",
              "      async function convertToInteractive(key) {\n",
              "        const element = document.querySelector('#df-ae07c5bf-9741-4e42-bcd9-e755703e4476');\n",
              "        const dataTable =\n",
              "          await google.colab.kernel.invokeFunction('convertToInteractive',\n",
              "                                                    [key], {});\n",
              "        if (!dataTable) return;\n",
              "\n",
              "        const docLinkHtml = 'Like what you see? Visit the ' +\n",
              "          '<a target=\"_blank\" href=https://colab.research.google.com/notebooks/data_table.ipynb>data table notebook</a>'\n",
              "          + ' to learn more about interactive tables.';\n",
              "        element.innerHTML = '';\n",
              "        dataTable['output_type'] = 'display_data';\n",
              "        await google.colab.output.renderOutput(dataTable, element);\n",
              "        const docLink = document.createElement('div');\n",
              "        docLink.innerHTML = docLinkHtml;\n",
              "        element.appendChild(docLink);\n",
              "      }\n",
              "    </script>\n",
              "  </div>\n",
              "\n",
              "\n",
              "<div id=\"df-6613c1c8-6a87-492f-b4be-fd90b5787365\">\n",
              "  <button class=\"colab-df-quickchart\" onclick=\"quickchart('df-6613c1c8-6a87-492f-b4be-fd90b5787365')\"\n",
              "            title=\"Suggest charts\"\n",
              "            style=\"display:none;\">\n",
              "\n",
              "<svg xmlns=\"http://www.w3.org/2000/svg\" height=\"24px\"viewBox=\"0 0 24 24\"\n",
              "     width=\"24px\">\n",
              "    <g>\n",
              "        <path d=\"M19 3H5c-1.1 0-2 .9-2 2v14c0 1.1.9 2 2 2h14c1.1 0 2-.9 2-2V5c0-1.1-.9-2-2-2zM9 17H7v-7h2v7zm4 0h-2V7h2v10zm4 0h-2v-4h2v4z\"/>\n",
              "    </g>\n",
              "</svg>\n",
              "  </button>\n",
              "\n",
              "<style>\n",
              "  .colab-df-quickchart {\n",
              "      --bg-color: #E8F0FE;\n",
              "      --fill-color: #1967D2;\n",
              "      --hover-bg-color: #E2EBFA;\n",
              "      --hover-fill-color: #174EA6;\n",
              "      --disabled-fill-color: #AAA;\n",
              "      --disabled-bg-color: #DDD;\n",
              "  }\n",
              "\n",
              "  [theme=dark] .colab-df-quickchart {\n",
              "      --bg-color: #3B4455;\n",
              "      --fill-color: #D2E3FC;\n",
              "      --hover-bg-color: #434B5C;\n",
              "      --hover-fill-color: #FFFFFF;\n",
              "      --disabled-bg-color: #3B4455;\n",
              "      --disabled-fill-color: #666;\n",
              "  }\n",
              "\n",
              "  .colab-df-quickchart {\n",
              "    background-color: var(--bg-color);\n",
              "    border: none;\n",
              "    border-radius: 50%;\n",
              "    cursor: pointer;\n",
              "    display: none;\n",
              "    fill: var(--fill-color);\n",
              "    height: 32px;\n",
              "    padding: 0;\n",
              "    width: 32px;\n",
              "  }\n",
              "\n",
              "  .colab-df-quickchart:hover {\n",
              "    background-color: var(--hover-bg-color);\n",
              "    box-shadow: 0 1px 2px rgba(60, 64, 67, 0.3), 0 1px 3px 1px rgba(60, 64, 67, 0.15);\n",
              "    fill: var(--button-hover-fill-color);\n",
              "  }\n",
              "\n",
              "  .colab-df-quickchart-complete:disabled,\n",
              "  .colab-df-quickchart-complete:disabled:hover {\n",
              "    background-color: var(--disabled-bg-color);\n",
              "    fill: var(--disabled-fill-color);\n",
              "    box-shadow: none;\n",
              "  }\n",
              "\n",
              "  .colab-df-spinner {\n",
              "    border: 2px solid var(--fill-color);\n",
              "    border-color: transparent;\n",
              "    border-bottom-color: var(--fill-color);\n",
              "    animation:\n",
              "      spin 1s steps(1) infinite;\n",
              "  }\n",
              "\n",
              "  @keyframes spin {\n",
              "    0% {\n",
              "      border-color: transparent;\n",
              "      border-bottom-color: var(--fill-color);\n",
              "      border-left-color: var(--fill-color);\n",
              "    }\n",
              "    20% {\n",
              "      border-color: transparent;\n",
              "      border-left-color: var(--fill-color);\n",
              "      border-top-color: var(--fill-color);\n",
              "    }\n",
              "    30% {\n",
              "      border-color: transparent;\n",
              "      border-left-color: var(--fill-color);\n",
              "      border-top-color: var(--fill-color);\n",
              "      border-right-color: var(--fill-color);\n",
              "    }\n",
              "    40% {\n",
              "      border-color: transparent;\n",
              "      border-right-color: var(--fill-color);\n",
              "      border-top-color: var(--fill-color);\n",
              "    }\n",
              "    60% {\n",
              "      border-color: transparent;\n",
              "      border-right-color: var(--fill-color);\n",
              "    }\n",
              "    80% {\n",
              "      border-color: transparent;\n",
              "      border-right-color: var(--fill-color);\n",
              "      border-bottom-color: var(--fill-color);\n",
              "    }\n",
              "    90% {\n",
              "      border-color: transparent;\n",
              "      border-bottom-color: var(--fill-color);\n",
              "    }\n",
              "  }\n",
              "</style>\n",
              "\n",
              "  <script>\n",
              "    async function quickchart(key) {\n",
              "      const quickchartButtonEl =\n",
              "        document.querySelector('#' + key + ' button');\n",
              "      quickchartButtonEl.disabled = true;  // To prevent multiple clicks.\n",
              "      quickchartButtonEl.classList.add('colab-df-spinner');\n",
              "      try {\n",
              "        const charts = await google.colab.kernel.invokeFunction(\n",
              "            'suggestCharts', [key], {});\n",
              "      } catch (error) {\n",
              "        console.error('Error during call to suggestCharts:', error);\n",
              "      }\n",
              "      quickchartButtonEl.classList.remove('colab-df-spinner');\n",
              "      quickchartButtonEl.classList.add('colab-df-quickchart-complete');\n",
              "    }\n",
              "    (() => {\n",
              "      let quickchartButtonEl =\n",
              "        document.querySelector('#df-6613c1c8-6a87-492f-b4be-fd90b5787365 button');\n",
              "      quickchartButtonEl.style.display =\n",
              "        google.colab.kernel.accessAllowed ? 'block' : 'none';\n",
              "    })();\n",
              "  </script>\n",
              "</div>\n",
              "    </div>\n",
              "  </div>\n"
            ]
          },
          "metadata": {},
          "execution_count": 37
        }
      ]
    },
    {
      "cell_type": "markdown",
      "source": [
        "Insights:\n",
        "\n",
        "- VIF scores are higher for R&D and Marketing Spend.\n",
        "\n",
        "- Since Administration is not so correlated with Profit as other variables, we will consider dropping this variable, which will drive VIF factor down."
      ],
      "metadata": {
        "id": "KqrPhtO4sgjQ"
      }
    },
    {
      "cell_type": "markdown",
      "source": [
        "Encoding Categorical Data and Creating dummy variables"
      ],
      "metadata": {
        "id": "GNpIXGctleqD"
      }
    },
    {
      "cell_type": "markdown",
      "source": [
        "one-hot-encoding"
      ],
      "metadata": {
        "id": "zDkc_C4-Atlf"
      }
    },
    {
      "cell_type": "code",
      "source": [
        "# Create a DataFrame from the data\n",
        "x = pd.DataFrame(x, columns=['R&D Spend', 'Administration', 'Marketing Spend', 'State'])\n",
        "\n",
        "# Perform one-hot encoding on the 'State' column\n",
        "x_encoded = pd.get_dummies(x, columns=['State'])\n"
      ],
      "metadata": {
        "id": "JpfbCYxFrCt1"
      },
      "execution_count": null,
      "outputs": []
    },
    {
      "cell_type": "code",
      "source": [
        "# Display the encoded DataFrame\n",
        "x_encoded.head()"
      ],
      "metadata": {
        "colab": {
          "base_uri": "https://localhost:8080/",
          "height": 206
        },
        "id": "u7HiZLlO6Fkw",
        "outputId": "81013d1d-42c9-4e90-85a8-c1f9066687a8"
      },
      "execution_count": null,
      "outputs": [
        {
          "output_type": "execute_result",
          "data": {
            "text/plain": [
              "   R&D Spend Administration Marketing Spend  State_California  State_Florida  \\\n",
              "0 165,349.20     136,897.80      471,784.10                 0              0   \n",
              "1 162,597.70     151,377.59      443,898.53                 1              0   \n",
              "2 153,441.51     101,145.55      407,934.54                 0              1   \n",
              "3 144,372.41     118,671.85      383,199.62                 0              0   \n",
              "4 142,107.34      91,391.77      366,168.42                 0              1   \n",
              "\n",
              "   State_New York  \n",
              "0               1  \n",
              "1               0  \n",
              "2               0  \n",
              "3               1  \n",
              "4               0  "
            ],
            "text/html": [
              "\n",
              "  <div id=\"df-bfea381b-0c98-4e29-bf11-a479831f24ac\" class=\"colab-df-container\">\n",
              "    <div>\n",
              "<style scoped>\n",
              "    .dataframe tbody tr th:only-of-type {\n",
              "        vertical-align: middle;\n",
              "    }\n",
              "\n",
              "    .dataframe tbody tr th {\n",
              "        vertical-align: top;\n",
              "    }\n",
              "\n",
              "    .dataframe thead th {\n",
              "        text-align: right;\n",
              "    }\n",
              "</style>\n",
              "<table border=\"1\" class=\"dataframe\">\n",
              "  <thead>\n",
              "    <tr style=\"text-align: right;\">\n",
              "      <th></th>\n",
              "      <th>R&amp;D Spend</th>\n",
              "      <th>Administration</th>\n",
              "      <th>Marketing Spend</th>\n",
              "      <th>State_California</th>\n",
              "      <th>State_Florida</th>\n",
              "      <th>State_New York</th>\n",
              "    </tr>\n",
              "  </thead>\n",
              "  <tbody>\n",
              "    <tr>\n",
              "      <th>0</th>\n",
              "      <td>165,349.20</td>\n",
              "      <td>136,897.80</td>\n",
              "      <td>471,784.10</td>\n",
              "      <td>0</td>\n",
              "      <td>0</td>\n",
              "      <td>1</td>\n",
              "    </tr>\n",
              "    <tr>\n",
              "      <th>1</th>\n",
              "      <td>162,597.70</td>\n",
              "      <td>151,377.59</td>\n",
              "      <td>443,898.53</td>\n",
              "      <td>1</td>\n",
              "      <td>0</td>\n",
              "      <td>0</td>\n",
              "    </tr>\n",
              "    <tr>\n",
              "      <th>2</th>\n",
              "      <td>153,441.51</td>\n",
              "      <td>101,145.55</td>\n",
              "      <td>407,934.54</td>\n",
              "      <td>0</td>\n",
              "      <td>1</td>\n",
              "      <td>0</td>\n",
              "    </tr>\n",
              "    <tr>\n",
              "      <th>3</th>\n",
              "      <td>144,372.41</td>\n",
              "      <td>118,671.85</td>\n",
              "      <td>383,199.62</td>\n",
              "      <td>0</td>\n",
              "      <td>0</td>\n",
              "      <td>1</td>\n",
              "    </tr>\n",
              "    <tr>\n",
              "      <th>4</th>\n",
              "      <td>142,107.34</td>\n",
              "      <td>91,391.77</td>\n",
              "      <td>366,168.42</td>\n",
              "      <td>0</td>\n",
              "      <td>1</td>\n",
              "      <td>0</td>\n",
              "    </tr>\n",
              "  </tbody>\n",
              "</table>\n",
              "</div>\n",
              "    <div class=\"colab-df-buttons\">\n",
              "\n",
              "  <div class=\"colab-df-container\">\n",
              "    <button class=\"colab-df-convert\" onclick=\"convertToInteractive('df-bfea381b-0c98-4e29-bf11-a479831f24ac')\"\n",
              "            title=\"Convert this dataframe to an interactive table.\"\n",
              "            style=\"display:none;\">\n",
              "\n",
              "  <svg xmlns=\"http://www.w3.org/2000/svg\" height=\"24px\" viewBox=\"0 -960 960 960\">\n",
              "    <path d=\"M120-120v-720h720v720H120Zm60-500h600v-160H180v160Zm220 220h160v-160H400v160Zm0 220h160v-160H400v160ZM180-400h160v-160H180v160Zm440 0h160v-160H620v160ZM180-180h160v-160H180v160Zm440 0h160v-160H620v160Z\"/>\n",
              "  </svg>\n",
              "    </button>\n",
              "\n",
              "  <style>\n",
              "    .colab-df-container {\n",
              "      display:flex;\n",
              "      gap: 12px;\n",
              "    }\n",
              "\n",
              "    .colab-df-convert {\n",
              "      background-color: #E8F0FE;\n",
              "      border: none;\n",
              "      border-radius: 50%;\n",
              "      cursor: pointer;\n",
              "      display: none;\n",
              "      fill: #1967D2;\n",
              "      height: 32px;\n",
              "      padding: 0 0 0 0;\n",
              "      width: 32px;\n",
              "    }\n",
              "\n",
              "    .colab-df-convert:hover {\n",
              "      background-color: #E2EBFA;\n",
              "      box-shadow: 0px 1px 2px rgba(60, 64, 67, 0.3), 0px 1px 3px 1px rgba(60, 64, 67, 0.15);\n",
              "      fill: #174EA6;\n",
              "    }\n",
              "\n",
              "    .colab-df-buttons div {\n",
              "      margin-bottom: 4px;\n",
              "    }\n",
              "\n",
              "    [theme=dark] .colab-df-convert {\n",
              "      background-color: #3B4455;\n",
              "      fill: #D2E3FC;\n",
              "    }\n",
              "\n",
              "    [theme=dark] .colab-df-convert:hover {\n",
              "      background-color: #434B5C;\n",
              "      box-shadow: 0px 1px 3px 1px rgba(0, 0, 0, 0.15);\n",
              "      filter: drop-shadow(0px 1px 2px rgba(0, 0, 0, 0.3));\n",
              "      fill: #FFFFFF;\n",
              "    }\n",
              "  </style>\n",
              "\n",
              "    <script>\n",
              "      const buttonEl =\n",
              "        document.querySelector('#df-bfea381b-0c98-4e29-bf11-a479831f24ac button.colab-df-convert');\n",
              "      buttonEl.style.display =\n",
              "        google.colab.kernel.accessAllowed ? 'block' : 'none';\n",
              "\n",
              "      async function convertToInteractive(key) {\n",
              "        const element = document.querySelector('#df-bfea381b-0c98-4e29-bf11-a479831f24ac');\n",
              "        const dataTable =\n",
              "          await google.colab.kernel.invokeFunction('convertToInteractive',\n",
              "                                                    [key], {});\n",
              "        if (!dataTable) return;\n",
              "\n",
              "        const docLinkHtml = 'Like what you see? Visit the ' +\n",
              "          '<a target=\"_blank\" href=https://colab.research.google.com/notebooks/data_table.ipynb>data table notebook</a>'\n",
              "          + ' to learn more about interactive tables.';\n",
              "        element.innerHTML = '';\n",
              "        dataTable['output_type'] = 'display_data';\n",
              "        await google.colab.output.renderOutput(dataTable, element);\n",
              "        const docLink = document.createElement('div');\n",
              "        docLink.innerHTML = docLinkHtml;\n",
              "        element.appendChild(docLink);\n",
              "      }\n",
              "    </script>\n",
              "  </div>\n",
              "\n",
              "\n",
              "<div id=\"df-a6365173-fb15-48e2-91d7-6583cf87071c\">\n",
              "  <button class=\"colab-df-quickchart\" onclick=\"quickchart('df-a6365173-fb15-48e2-91d7-6583cf87071c')\"\n",
              "            title=\"Suggest charts\"\n",
              "            style=\"display:none;\">\n",
              "\n",
              "<svg xmlns=\"http://www.w3.org/2000/svg\" height=\"24px\"viewBox=\"0 0 24 24\"\n",
              "     width=\"24px\">\n",
              "    <g>\n",
              "        <path d=\"M19 3H5c-1.1 0-2 .9-2 2v14c0 1.1.9 2 2 2h14c1.1 0 2-.9 2-2V5c0-1.1-.9-2-2-2zM9 17H7v-7h2v7zm4 0h-2V7h2v10zm4 0h-2v-4h2v4z\"/>\n",
              "    </g>\n",
              "</svg>\n",
              "  </button>\n",
              "\n",
              "<style>\n",
              "  .colab-df-quickchart {\n",
              "      --bg-color: #E8F0FE;\n",
              "      --fill-color: #1967D2;\n",
              "      --hover-bg-color: #E2EBFA;\n",
              "      --hover-fill-color: #174EA6;\n",
              "      --disabled-fill-color: #AAA;\n",
              "      --disabled-bg-color: #DDD;\n",
              "  }\n",
              "\n",
              "  [theme=dark] .colab-df-quickchart {\n",
              "      --bg-color: #3B4455;\n",
              "      --fill-color: #D2E3FC;\n",
              "      --hover-bg-color: #434B5C;\n",
              "      --hover-fill-color: #FFFFFF;\n",
              "      --disabled-bg-color: #3B4455;\n",
              "      --disabled-fill-color: #666;\n",
              "  }\n",
              "\n",
              "  .colab-df-quickchart {\n",
              "    background-color: var(--bg-color);\n",
              "    border: none;\n",
              "    border-radius: 50%;\n",
              "    cursor: pointer;\n",
              "    display: none;\n",
              "    fill: var(--fill-color);\n",
              "    height: 32px;\n",
              "    padding: 0;\n",
              "    width: 32px;\n",
              "  }\n",
              "\n",
              "  .colab-df-quickchart:hover {\n",
              "    background-color: var(--hover-bg-color);\n",
              "    box-shadow: 0 1px 2px rgba(60, 64, 67, 0.3), 0 1px 3px 1px rgba(60, 64, 67, 0.15);\n",
              "    fill: var(--button-hover-fill-color);\n",
              "  }\n",
              "\n",
              "  .colab-df-quickchart-complete:disabled,\n",
              "  .colab-df-quickchart-complete:disabled:hover {\n",
              "    background-color: var(--disabled-bg-color);\n",
              "    fill: var(--disabled-fill-color);\n",
              "    box-shadow: none;\n",
              "  }\n",
              "\n",
              "  .colab-df-spinner {\n",
              "    border: 2px solid var(--fill-color);\n",
              "    border-color: transparent;\n",
              "    border-bottom-color: var(--fill-color);\n",
              "    animation:\n",
              "      spin 1s steps(1) infinite;\n",
              "  }\n",
              "\n",
              "  @keyframes spin {\n",
              "    0% {\n",
              "      border-color: transparent;\n",
              "      border-bottom-color: var(--fill-color);\n",
              "      border-left-color: var(--fill-color);\n",
              "    }\n",
              "    20% {\n",
              "      border-color: transparent;\n",
              "      border-left-color: var(--fill-color);\n",
              "      border-top-color: var(--fill-color);\n",
              "    }\n",
              "    30% {\n",
              "      border-color: transparent;\n",
              "      border-left-color: var(--fill-color);\n",
              "      border-top-color: var(--fill-color);\n",
              "      border-right-color: var(--fill-color);\n",
              "    }\n",
              "    40% {\n",
              "      border-color: transparent;\n",
              "      border-right-color: var(--fill-color);\n",
              "      border-top-color: var(--fill-color);\n",
              "    }\n",
              "    60% {\n",
              "      border-color: transparent;\n",
              "      border-right-color: var(--fill-color);\n",
              "    }\n",
              "    80% {\n",
              "      border-color: transparent;\n",
              "      border-right-color: var(--fill-color);\n",
              "      border-bottom-color: var(--fill-color);\n",
              "    }\n",
              "    90% {\n",
              "      border-color: transparent;\n",
              "      border-bottom-color: var(--fill-color);\n",
              "    }\n",
              "  }\n",
              "</style>\n",
              "\n",
              "  <script>\n",
              "    async function quickchart(key) {\n",
              "      const quickchartButtonEl =\n",
              "        document.querySelector('#' + key + ' button');\n",
              "      quickchartButtonEl.disabled = true;  // To prevent multiple clicks.\n",
              "      quickchartButtonEl.classList.add('colab-df-spinner');\n",
              "      try {\n",
              "        const charts = await google.colab.kernel.invokeFunction(\n",
              "            'suggestCharts', [key], {});\n",
              "      } catch (error) {\n",
              "        console.error('Error during call to suggestCharts:', error);\n",
              "      }\n",
              "      quickchartButtonEl.classList.remove('colab-df-spinner');\n",
              "      quickchartButtonEl.classList.add('colab-df-quickchart-complete');\n",
              "    }\n",
              "    (() => {\n",
              "      let quickchartButtonEl =\n",
              "        document.querySelector('#df-a6365173-fb15-48e2-91d7-6583cf87071c button');\n",
              "      quickchartButtonEl.style.display =\n",
              "        google.colab.kernel.accessAllowed ? 'block' : 'none';\n",
              "    })();\n",
              "  </script>\n",
              "</div>\n",
              "    </div>\n",
              "  </div>\n"
            ]
          },
          "metadata": {},
          "execution_count": 39
        }
      ]
    },
    {
      "cell_type": "markdown",
      "source": [
        "Avoiding Dummy Variable Trap"
      ],
      "metadata": {
        "id": "xJTLv-Ytnks4"
      }
    },
    {
      "cell_type": "code",
      "source": [
        "# drop one of the columns to avoid the Dummy Variable Trap\n",
        "x_encoded = pd.get_dummies(x, columns=['State'], drop_first=True)\n",
        "\n"
      ],
      "metadata": {
        "id": "h__iHNGkntMw"
      },
      "execution_count": null,
      "outputs": []
    },
    {
      "cell_type": "code",
      "source": [
        "# Display the encoded DataFrame\n",
        "x_encoded.head()"
      ],
      "metadata": {
        "colab": {
          "base_uri": "https://localhost:8080/",
          "height": 206
        },
        "id": "bneu09rf7CMJ",
        "outputId": "55b2dfbf-531e-4c0e-975f-5544f8040862"
      },
      "execution_count": null,
      "outputs": [
        {
          "output_type": "execute_result",
          "data": {
            "text/plain": [
              "   R&D Spend Administration Marketing Spend  State_Florida  State_New York\n",
              "0 165,349.20     136,897.80      471,784.10              0               1\n",
              "1 162,597.70     151,377.59      443,898.53              0               0\n",
              "2 153,441.51     101,145.55      407,934.54              1               0\n",
              "3 144,372.41     118,671.85      383,199.62              0               1\n",
              "4 142,107.34      91,391.77      366,168.42              1               0"
            ],
            "text/html": [
              "\n",
              "  <div id=\"df-a6b873db-250b-4055-b07a-a4316fede552\" class=\"colab-df-container\">\n",
              "    <div>\n",
              "<style scoped>\n",
              "    .dataframe tbody tr th:only-of-type {\n",
              "        vertical-align: middle;\n",
              "    }\n",
              "\n",
              "    .dataframe tbody tr th {\n",
              "        vertical-align: top;\n",
              "    }\n",
              "\n",
              "    .dataframe thead th {\n",
              "        text-align: right;\n",
              "    }\n",
              "</style>\n",
              "<table border=\"1\" class=\"dataframe\">\n",
              "  <thead>\n",
              "    <tr style=\"text-align: right;\">\n",
              "      <th></th>\n",
              "      <th>R&amp;D Spend</th>\n",
              "      <th>Administration</th>\n",
              "      <th>Marketing Spend</th>\n",
              "      <th>State_Florida</th>\n",
              "      <th>State_New York</th>\n",
              "    </tr>\n",
              "  </thead>\n",
              "  <tbody>\n",
              "    <tr>\n",
              "      <th>0</th>\n",
              "      <td>165,349.20</td>\n",
              "      <td>136,897.80</td>\n",
              "      <td>471,784.10</td>\n",
              "      <td>0</td>\n",
              "      <td>1</td>\n",
              "    </tr>\n",
              "    <tr>\n",
              "      <th>1</th>\n",
              "      <td>162,597.70</td>\n",
              "      <td>151,377.59</td>\n",
              "      <td>443,898.53</td>\n",
              "      <td>0</td>\n",
              "      <td>0</td>\n",
              "    </tr>\n",
              "    <tr>\n",
              "      <th>2</th>\n",
              "      <td>153,441.51</td>\n",
              "      <td>101,145.55</td>\n",
              "      <td>407,934.54</td>\n",
              "      <td>1</td>\n",
              "      <td>0</td>\n",
              "    </tr>\n",
              "    <tr>\n",
              "      <th>3</th>\n",
              "      <td>144,372.41</td>\n",
              "      <td>118,671.85</td>\n",
              "      <td>383,199.62</td>\n",
              "      <td>0</td>\n",
              "      <td>1</td>\n",
              "    </tr>\n",
              "    <tr>\n",
              "      <th>4</th>\n",
              "      <td>142,107.34</td>\n",
              "      <td>91,391.77</td>\n",
              "      <td>366,168.42</td>\n",
              "      <td>1</td>\n",
              "      <td>0</td>\n",
              "    </tr>\n",
              "  </tbody>\n",
              "</table>\n",
              "</div>\n",
              "    <div class=\"colab-df-buttons\">\n",
              "\n",
              "  <div class=\"colab-df-container\">\n",
              "    <button class=\"colab-df-convert\" onclick=\"convertToInteractive('df-a6b873db-250b-4055-b07a-a4316fede552')\"\n",
              "            title=\"Convert this dataframe to an interactive table.\"\n",
              "            style=\"display:none;\">\n",
              "\n",
              "  <svg xmlns=\"http://www.w3.org/2000/svg\" height=\"24px\" viewBox=\"0 -960 960 960\">\n",
              "    <path d=\"M120-120v-720h720v720H120Zm60-500h600v-160H180v160Zm220 220h160v-160H400v160Zm0 220h160v-160H400v160ZM180-400h160v-160H180v160Zm440 0h160v-160H620v160ZM180-180h160v-160H180v160Zm440 0h160v-160H620v160Z\"/>\n",
              "  </svg>\n",
              "    </button>\n",
              "\n",
              "  <style>\n",
              "    .colab-df-container {\n",
              "      display:flex;\n",
              "      gap: 12px;\n",
              "    }\n",
              "\n",
              "    .colab-df-convert {\n",
              "      background-color: #E8F0FE;\n",
              "      border: none;\n",
              "      border-radius: 50%;\n",
              "      cursor: pointer;\n",
              "      display: none;\n",
              "      fill: #1967D2;\n",
              "      height: 32px;\n",
              "      padding: 0 0 0 0;\n",
              "      width: 32px;\n",
              "    }\n",
              "\n",
              "    .colab-df-convert:hover {\n",
              "      background-color: #E2EBFA;\n",
              "      box-shadow: 0px 1px 2px rgba(60, 64, 67, 0.3), 0px 1px 3px 1px rgba(60, 64, 67, 0.15);\n",
              "      fill: #174EA6;\n",
              "    }\n",
              "\n",
              "    .colab-df-buttons div {\n",
              "      margin-bottom: 4px;\n",
              "    }\n",
              "\n",
              "    [theme=dark] .colab-df-convert {\n",
              "      background-color: #3B4455;\n",
              "      fill: #D2E3FC;\n",
              "    }\n",
              "\n",
              "    [theme=dark] .colab-df-convert:hover {\n",
              "      background-color: #434B5C;\n",
              "      box-shadow: 0px 1px 3px 1px rgba(0, 0, 0, 0.15);\n",
              "      filter: drop-shadow(0px 1px 2px rgba(0, 0, 0, 0.3));\n",
              "      fill: #FFFFFF;\n",
              "    }\n",
              "  </style>\n",
              "\n",
              "    <script>\n",
              "      const buttonEl =\n",
              "        document.querySelector('#df-a6b873db-250b-4055-b07a-a4316fede552 button.colab-df-convert');\n",
              "      buttonEl.style.display =\n",
              "        google.colab.kernel.accessAllowed ? 'block' : 'none';\n",
              "\n",
              "      async function convertToInteractive(key) {\n",
              "        const element = document.querySelector('#df-a6b873db-250b-4055-b07a-a4316fede552');\n",
              "        const dataTable =\n",
              "          await google.colab.kernel.invokeFunction('convertToInteractive',\n",
              "                                                    [key], {});\n",
              "        if (!dataTable) return;\n",
              "\n",
              "        const docLinkHtml = 'Like what you see? Visit the ' +\n",
              "          '<a target=\"_blank\" href=https://colab.research.google.com/notebooks/data_table.ipynb>data table notebook</a>'\n",
              "          + ' to learn more about interactive tables.';\n",
              "        element.innerHTML = '';\n",
              "        dataTable['output_type'] = 'display_data';\n",
              "        await google.colab.output.renderOutput(dataTable, element);\n",
              "        const docLink = document.createElement('div');\n",
              "        docLink.innerHTML = docLinkHtml;\n",
              "        element.appendChild(docLink);\n",
              "      }\n",
              "    </script>\n",
              "  </div>\n",
              "\n",
              "\n",
              "<div id=\"df-216f2d1b-eca9-47c9-a80e-9da473c4ba91\">\n",
              "  <button class=\"colab-df-quickchart\" onclick=\"quickchart('df-216f2d1b-eca9-47c9-a80e-9da473c4ba91')\"\n",
              "            title=\"Suggest charts\"\n",
              "            style=\"display:none;\">\n",
              "\n",
              "<svg xmlns=\"http://www.w3.org/2000/svg\" height=\"24px\"viewBox=\"0 0 24 24\"\n",
              "     width=\"24px\">\n",
              "    <g>\n",
              "        <path d=\"M19 3H5c-1.1 0-2 .9-2 2v14c0 1.1.9 2 2 2h14c1.1 0 2-.9 2-2V5c0-1.1-.9-2-2-2zM9 17H7v-7h2v7zm4 0h-2V7h2v10zm4 0h-2v-4h2v4z\"/>\n",
              "    </g>\n",
              "</svg>\n",
              "  </button>\n",
              "\n",
              "<style>\n",
              "  .colab-df-quickchart {\n",
              "      --bg-color: #E8F0FE;\n",
              "      --fill-color: #1967D2;\n",
              "      --hover-bg-color: #E2EBFA;\n",
              "      --hover-fill-color: #174EA6;\n",
              "      --disabled-fill-color: #AAA;\n",
              "      --disabled-bg-color: #DDD;\n",
              "  }\n",
              "\n",
              "  [theme=dark] .colab-df-quickchart {\n",
              "      --bg-color: #3B4455;\n",
              "      --fill-color: #D2E3FC;\n",
              "      --hover-bg-color: #434B5C;\n",
              "      --hover-fill-color: #FFFFFF;\n",
              "      --disabled-bg-color: #3B4455;\n",
              "      --disabled-fill-color: #666;\n",
              "  }\n",
              "\n",
              "  .colab-df-quickchart {\n",
              "    background-color: var(--bg-color);\n",
              "    border: none;\n",
              "    border-radius: 50%;\n",
              "    cursor: pointer;\n",
              "    display: none;\n",
              "    fill: var(--fill-color);\n",
              "    height: 32px;\n",
              "    padding: 0;\n",
              "    width: 32px;\n",
              "  }\n",
              "\n",
              "  .colab-df-quickchart:hover {\n",
              "    background-color: var(--hover-bg-color);\n",
              "    box-shadow: 0 1px 2px rgba(60, 64, 67, 0.3), 0 1px 3px 1px rgba(60, 64, 67, 0.15);\n",
              "    fill: var(--button-hover-fill-color);\n",
              "  }\n",
              "\n",
              "  .colab-df-quickchart-complete:disabled,\n",
              "  .colab-df-quickchart-complete:disabled:hover {\n",
              "    background-color: var(--disabled-bg-color);\n",
              "    fill: var(--disabled-fill-color);\n",
              "    box-shadow: none;\n",
              "  }\n",
              "\n",
              "  .colab-df-spinner {\n",
              "    border: 2px solid var(--fill-color);\n",
              "    border-color: transparent;\n",
              "    border-bottom-color: var(--fill-color);\n",
              "    animation:\n",
              "      spin 1s steps(1) infinite;\n",
              "  }\n",
              "\n",
              "  @keyframes spin {\n",
              "    0% {\n",
              "      border-color: transparent;\n",
              "      border-bottom-color: var(--fill-color);\n",
              "      border-left-color: var(--fill-color);\n",
              "    }\n",
              "    20% {\n",
              "      border-color: transparent;\n",
              "      border-left-color: var(--fill-color);\n",
              "      border-top-color: var(--fill-color);\n",
              "    }\n",
              "    30% {\n",
              "      border-color: transparent;\n",
              "      border-left-color: var(--fill-color);\n",
              "      border-top-color: var(--fill-color);\n",
              "      border-right-color: var(--fill-color);\n",
              "    }\n",
              "    40% {\n",
              "      border-color: transparent;\n",
              "      border-right-color: var(--fill-color);\n",
              "      border-top-color: var(--fill-color);\n",
              "    }\n",
              "    60% {\n",
              "      border-color: transparent;\n",
              "      border-right-color: var(--fill-color);\n",
              "    }\n",
              "    80% {\n",
              "      border-color: transparent;\n",
              "      border-right-color: var(--fill-color);\n",
              "      border-bottom-color: var(--fill-color);\n",
              "    }\n",
              "    90% {\n",
              "      border-color: transparent;\n",
              "      border-bottom-color: var(--fill-color);\n",
              "    }\n",
              "  }\n",
              "</style>\n",
              "\n",
              "  <script>\n",
              "    async function quickchart(key) {\n",
              "      const quickchartButtonEl =\n",
              "        document.querySelector('#' + key + ' button');\n",
              "      quickchartButtonEl.disabled = true;  // To prevent multiple clicks.\n",
              "      quickchartButtonEl.classList.add('colab-df-spinner');\n",
              "      try {\n",
              "        const charts = await google.colab.kernel.invokeFunction(\n",
              "            'suggestCharts', [key], {});\n",
              "      } catch (error) {\n",
              "        console.error('Error during call to suggestCharts:', error);\n",
              "      }\n",
              "      quickchartButtonEl.classList.remove('colab-df-spinner');\n",
              "      quickchartButtonEl.classList.add('colab-df-quickchart-complete');\n",
              "    }\n",
              "    (() => {\n",
              "      let quickchartButtonEl =\n",
              "        document.querySelector('#df-216f2d1b-eca9-47c9-a80e-9da473c4ba91 button');\n",
              "      quickchartButtonEl.style.display =\n",
              "        google.colab.kernel.accessAllowed ? 'block' : 'none';\n",
              "    })();\n",
              "  </script>\n",
              "</div>\n",
              "    </div>\n",
              "  </div>\n"
            ]
          },
          "metadata": {},
          "execution_count": 41
        }
      ]
    },
    {
      "cell_type": "markdown",
      "source": [
        "Feature selection"
      ],
      "metadata": {
        "id": "Tj8wGvOV50aJ"
      }
    },
    {
      "cell_type": "code",
      "source": [
        "data = f_regression(x_encoded[[\"R&D Spend\", \"Administration\", \"Marketing Spend\"]], y)\n",
        "f_df = pd.DataFrame(data, index=[[\"F_statistic\", \"p_value\"]], columns=x_encoded[[\"R&D Spend\", \"Administration\", \"Marketing Spend\"]].columns).T\n",
        "f_df"
      ],
      "metadata": {
        "colab": {
          "base_uri": "https://localhost:8080/",
          "height": 143
        },
        "id": "-MOd-qLo6Dc3",
        "outputId": "7119a9b4-5a67-4c1d-f458-a231dd2e11fe"
      },
      "execution_count": null,
      "outputs": [
        {
          "output_type": "execute_result",
          "data": {
            "text/plain": [
              "                F_statistic p_value\n",
              "R&D Spend        505,325.09    0.00\n",
              "Administration     1,248.58    0.00\n",
              "Marketing Spend   24,870.25    0.00"
            ],
            "text/html": [
              "\n",
              "  <div id=\"df-7aeef621-3bc0-4c42-9671-3dcea23d617b\" class=\"colab-df-container\">\n",
              "    <div>\n",
              "<style scoped>\n",
              "    .dataframe tbody tr th:only-of-type {\n",
              "        vertical-align: middle;\n",
              "    }\n",
              "\n",
              "    .dataframe tbody tr th {\n",
              "        vertical-align: top;\n",
              "    }\n",
              "\n",
              "    .dataframe thead tr th {\n",
              "        text-align: left;\n",
              "    }\n",
              "</style>\n",
              "<table border=\"1\" class=\"dataframe\">\n",
              "  <thead>\n",
              "    <tr>\n",
              "      <th></th>\n",
              "      <th>F_statistic</th>\n",
              "      <th>p_value</th>\n",
              "    </tr>\n",
              "  </thead>\n",
              "  <tbody>\n",
              "    <tr>\n",
              "      <th>R&amp;D Spend</th>\n",
              "      <td>505,325.09</td>\n",
              "      <td>0.00</td>\n",
              "    </tr>\n",
              "    <tr>\n",
              "      <th>Administration</th>\n",
              "      <td>1,248.58</td>\n",
              "      <td>0.00</td>\n",
              "    </tr>\n",
              "    <tr>\n",
              "      <th>Marketing Spend</th>\n",
              "      <td>24,870.25</td>\n",
              "      <td>0.00</td>\n",
              "    </tr>\n",
              "  </tbody>\n",
              "</table>\n",
              "</div>\n",
              "    <div class=\"colab-df-buttons\">\n",
              "\n",
              "  <div class=\"colab-df-container\">\n",
              "    <button class=\"colab-df-convert\" onclick=\"convertToInteractive('df-7aeef621-3bc0-4c42-9671-3dcea23d617b')\"\n",
              "            title=\"Convert this dataframe to an interactive table.\"\n",
              "            style=\"display:none;\">\n",
              "\n",
              "  <svg xmlns=\"http://www.w3.org/2000/svg\" height=\"24px\" viewBox=\"0 -960 960 960\">\n",
              "    <path d=\"M120-120v-720h720v720H120Zm60-500h600v-160H180v160Zm220 220h160v-160H400v160Zm0 220h160v-160H400v160ZM180-400h160v-160H180v160Zm440 0h160v-160H620v160ZM180-180h160v-160H180v160Zm440 0h160v-160H620v160Z\"/>\n",
              "  </svg>\n",
              "    </button>\n",
              "\n",
              "  <style>\n",
              "    .colab-df-container {\n",
              "      display:flex;\n",
              "      gap: 12px;\n",
              "    }\n",
              "\n",
              "    .colab-df-convert {\n",
              "      background-color: #E8F0FE;\n",
              "      border: none;\n",
              "      border-radius: 50%;\n",
              "      cursor: pointer;\n",
              "      display: none;\n",
              "      fill: #1967D2;\n",
              "      height: 32px;\n",
              "      padding: 0 0 0 0;\n",
              "      width: 32px;\n",
              "    }\n",
              "\n",
              "    .colab-df-convert:hover {\n",
              "      background-color: #E2EBFA;\n",
              "      box-shadow: 0px 1px 2px rgba(60, 64, 67, 0.3), 0px 1px 3px 1px rgba(60, 64, 67, 0.15);\n",
              "      fill: #174EA6;\n",
              "    }\n",
              "\n",
              "    .colab-df-buttons div {\n",
              "      margin-bottom: 4px;\n",
              "    }\n",
              "\n",
              "    [theme=dark] .colab-df-convert {\n",
              "      background-color: #3B4455;\n",
              "      fill: #D2E3FC;\n",
              "    }\n",
              "\n",
              "    [theme=dark] .colab-df-convert:hover {\n",
              "      background-color: #434B5C;\n",
              "      box-shadow: 0px 1px 3px 1px rgba(0, 0, 0, 0.15);\n",
              "      filter: drop-shadow(0px 1px 2px rgba(0, 0, 0, 0.3));\n",
              "      fill: #FFFFFF;\n",
              "    }\n",
              "  </style>\n",
              "\n",
              "    <script>\n",
              "      const buttonEl =\n",
              "        document.querySelector('#df-7aeef621-3bc0-4c42-9671-3dcea23d617b button.colab-df-convert');\n",
              "      buttonEl.style.display =\n",
              "        google.colab.kernel.accessAllowed ? 'block' : 'none';\n",
              "\n",
              "      async function convertToInteractive(key) {\n",
              "        const element = document.querySelector('#df-7aeef621-3bc0-4c42-9671-3dcea23d617b');\n",
              "        const dataTable =\n",
              "          await google.colab.kernel.invokeFunction('convertToInteractive',\n",
              "                                                    [key], {});\n",
              "        if (!dataTable) return;\n",
              "\n",
              "        const docLinkHtml = 'Like what you see? Visit the ' +\n",
              "          '<a target=\"_blank\" href=https://colab.research.google.com/notebooks/data_table.ipynb>data table notebook</a>'\n",
              "          + ' to learn more about interactive tables.';\n",
              "        element.innerHTML = '';\n",
              "        dataTable['output_type'] = 'display_data';\n",
              "        await google.colab.output.renderOutput(dataTable, element);\n",
              "        const docLink = document.createElement('div');\n",
              "        docLink.innerHTML = docLinkHtml;\n",
              "        element.appendChild(docLink);\n",
              "      }\n",
              "    </script>\n",
              "  </div>\n",
              "\n",
              "\n",
              "<div id=\"df-d49fb0f4-cb08-43d9-aa9f-bce819e76f32\">\n",
              "  <button class=\"colab-df-quickchart\" onclick=\"quickchart('df-d49fb0f4-cb08-43d9-aa9f-bce819e76f32')\"\n",
              "            title=\"Suggest charts\"\n",
              "            style=\"display:none;\">\n",
              "\n",
              "<svg xmlns=\"http://www.w3.org/2000/svg\" height=\"24px\"viewBox=\"0 0 24 24\"\n",
              "     width=\"24px\">\n",
              "    <g>\n",
              "        <path d=\"M19 3H5c-1.1 0-2 .9-2 2v14c0 1.1.9 2 2 2h14c1.1 0 2-.9 2-2V5c0-1.1-.9-2-2-2zM9 17H7v-7h2v7zm4 0h-2V7h2v10zm4 0h-2v-4h2v4z\"/>\n",
              "    </g>\n",
              "</svg>\n",
              "  </button>\n",
              "\n",
              "<style>\n",
              "  .colab-df-quickchart {\n",
              "      --bg-color: #E8F0FE;\n",
              "      --fill-color: #1967D2;\n",
              "      --hover-bg-color: #E2EBFA;\n",
              "      --hover-fill-color: #174EA6;\n",
              "      --disabled-fill-color: #AAA;\n",
              "      --disabled-bg-color: #DDD;\n",
              "  }\n",
              "\n",
              "  [theme=dark] .colab-df-quickchart {\n",
              "      --bg-color: #3B4455;\n",
              "      --fill-color: #D2E3FC;\n",
              "      --hover-bg-color: #434B5C;\n",
              "      --hover-fill-color: #FFFFFF;\n",
              "      --disabled-bg-color: #3B4455;\n",
              "      --disabled-fill-color: #666;\n",
              "  }\n",
              "\n",
              "  .colab-df-quickchart {\n",
              "    background-color: var(--bg-color);\n",
              "    border: none;\n",
              "    border-radius: 50%;\n",
              "    cursor: pointer;\n",
              "    display: none;\n",
              "    fill: var(--fill-color);\n",
              "    height: 32px;\n",
              "    padding: 0;\n",
              "    width: 32px;\n",
              "  }\n",
              "\n",
              "  .colab-df-quickchart:hover {\n",
              "    background-color: var(--hover-bg-color);\n",
              "    box-shadow: 0 1px 2px rgba(60, 64, 67, 0.3), 0 1px 3px 1px rgba(60, 64, 67, 0.15);\n",
              "    fill: var(--button-hover-fill-color);\n",
              "  }\n",
              "\n",
              "  .colab-df-quickchart-complete:disabled,\n",
              "  .colab-df-quickchart-complete:disabled:hover {\n",
              "    background-color: var(--disabled-bg-color);\n",
              "    fill: var(--disabled-fill-color);\n",
              "    box-shadow: none;\n",
              "  }\n",
              "\n",
              "  .colab-df-spinner {\n",
              "    border: 2px solid var(--fill-color);\n",
              "    border-color: transparent;\n",
              "    border-bottom-color: var(--fill-color);\n",
              "    animation:\n",
              "      spin 1s steps(1) infinite;\n",
              "  }\n",
              "\n",
              "  @keyframes spin {\n",
              "    0% {\n",
              "      border-color: transparent;\n",
              "      border-bottom-color: var(--fill-color);\n",
              "      border-left-color: var(--fill-color);\n",
              "    }\n",
              "    20% {\n",
              "      border-color: transparent;\n",
              "      border-left-color: var(--fill-color);\n",
              "      border-top-color: var(--fill-color);\n",
              "    }\n",
              "    30% {\n",
              "      border-color: transparent;\n",
              "      border-left-color: var(--fill-color);\n",
              "      border-top-color: var(--fill-color);\n",
              "      border-right-color: var(--fill-color);\n",
              "    }\n",
              "    40% {\n",
              "      border-color: transparent;\n",
              "      border-right-color: var(--fill-color);\n",
              "      border-top-color: var(--fill-color);\n",
              "    }\n",
              "    60% {\n",
              "      border-color: transparent;\n",
              "      border-right-color: var(--fill-color);\n",
              "    }\n",
              "    80% {\n",
              "      border-color: transparent;\n",
              "      border-right-color: var(--fill-color);\n",
              "      border-bottom-color: var(--fill-color);\n",
              "    }\n",
              "    90% {\n",
              "      border-color: transparent;\n",
              "      border-bottom-color: var(--fill-color);\n",
              "    }\n",
              "  }\n",
              "</style>\n",
              "\n",
              "  <script>\n",
              "    async function quickchart(key) {\n",
              "      const quickchartButtonEl =\n",
              "        document.querySelector('#' + key + ' button');\n",
              "      quickchartButtonEl.disabled = true;  // To prevent multiple clicks.\n",
              "      quickchartButtonEl.classList.add('colab-df-spinner');\n",
              "      try {\n",
              "        const charts = await google.colab.kernel.invokeFunction(\n",
              "            'suggestCharts', [key], {});\n",
              "      } catch (error) {\n",
              "        console.error('Error during call to suggestCharts:', error);\n",
              "      }\n",
              "      quickchartButtonEl.classList.remove('colab-df-spinner');\n",
              "      quickchartButtonEl.classList.add('colab-df-quickchart-complete');\n",
              "    }\n",
              "    (() => {\n",
              "      let quickchartButtonEl =\n",
              "        document.querySelector('#df-d49fb0f4-cb08-43d9-aa9f-bce819e76f32 button');\n",
              "      quickchartButtonEl.style.display =\n",
              "        google.colab.kernel.accessAllowed ? 'block' : 'none';\n",
              "    })();\n",
              "  </script>\n",
              "</div>\n",
              "    </div>\n",
              "  </div>\n"
            ]
          },
          "metadata": {},
          "execution_count": 42
        }
      ]
    },
    {
      "cell_type": "markdown",
      "source": [
        "Insights:\n",
        "\n",
        "- R&D and Marketing has higher F_statistics which\n",
        "  implies statistical significance.\n",
        "\n",
        "- On the other hand Administration seems to have no\n",
        "  effect in predicting the Profit, as we previously seen from correlation as well.\n",
        "\n",
        "- We are going to drop Administration column as it  has no statistical significance in our model."
      ],
      "metadata": {
        "id": "Mz5y-mRy7D5P"
      }
    },
    {
      "cell_type": "code",
      "source": [
        "x = x_encoded.drop(columns=\"Administration\", inplace=True)"
      ],
      "metadata": {
        "id": "m0anQ_qo8_9f"
      },
      "execution_count": null,
      "outputs": []
    },
    {
      "cell_type": "code",
      "source": [
        "x_encoded"
      ],
      "metadata": {
        "colab": {
          "base_uri": "https://localhost:8080/",
          "height": 423
        },
        "id": "3ycBemq29NfP",
        "outputId": "84a71fb3-879e-46ec-c6dc-eee6c3d42ecd"
      },
      "execution_count": null,
      "outputs": [
        {
          "output_type": "execute_result",
          "data": {
            "text/plain": [
              "     R&D Spend Marketing Spend  State_Florida  State_New York\n",
              "0   165,349.20      471,784.10              0               1\n",
              "1   162,597.70      443,898.53              0               0\n",
              "2   153,441.51      407,934.54              1               0\n",
              "3   144,372.41      383,199.62              0               1\n",
              "4   142,107.34      366,168.42              1               0\n",
              "..         ...             ...            ...             ...\n",
              "990 105,127.00      271,621.87              1               0\n",
              "991  46,798.00      159,075.91              0               0\n",
              "992  97,209.00      256,344.07              0               1\n",
              "993  54,135.00      173,232.67              0               0\n",
              "994 134,970.00      329,204.02              0               0\n",
              "\n",
              "[995 rows x 4 columns]"
            ],
            "text/html": [
              "\n",
              "  <div id=\"df-6942c915-a249-4d65-ac56-fa6d68d82147\" class=\"colab-df-container\">\n",
              "    <div>\n",
              "<style scoped>\n",
              "    .dataframe tbody tr th:only-of-type {\n",
              "        vertical-align: middle;\n",
              "    }\n",
              "\n",
              "    .dataframe tbody tr th {\n",
              "        vertical-align: top;\n",
              "    }\n",
              "\n",
              "    .dataframe thead th {\n",
              "        text-align: right;\n",
              "    }\n",
              "</style>\n",
              "<table border=\"1\" class=\"dataframe\">\n",
              "  <thead>\n",
              "    <tr style=\"text-align: right;\">\n",
              "      <th></th>\n",
              "      <th>R&amp;D Spend</th>\n",
              "      <th>Marketing Spend</th>\n",
              "      <th>State_Florida</th>\n",
              "      <th>State_New York</th>\n",
              "    </tr>\n",
              "  </thead>\n",
              "  <tbody>\n",
              "    <tr>\n",
              "      <th>0</th>\n",
              "      <td>165,349.20</td>\n",
              "      <td>471,784.10</td>\n",
              "      <td>0</td>\n",
              "      <td>1</td>\n",
              "    </tr>\n",
              "    <tr>\n",
              "      <th>1</th>\n",
              "      <td>162,597.70</td>\n",
              "      <td>443,898.53</td>\n",
              "      <td>0</td>\n",
              "      <td>0</td>\n",
              "    </tr>\n",
              "    <tr>\n",
              "      <th>2</th>\n",
              "      <td>153,441.51</td>\n",
              "      <td>407,934.54</td>\n",
              "      <td>1</td>\n",
              "      <td>0</td>\n",
              "    </tr>\n",
              "    <tr>\n",
              "      <th>3</th>\n",
              "      <td>144,372.41</td>\n",
              "      <td>383,199.62</td>\n",
              "      <td>0</td>\n",
              "      <td>1</td>\n",
              "    </tr>\n",
              "    <tr>\n",
              "      <th>4</th>\n",
              "      <td>142,107.34</td>\n",
              "      <td>366,168.42</td>\n",
              "      <td>1</td>\n",
              "      <td>0</td>\n",
              "    </tr>\n",
              "    <tr>\n",
              "      <th>...</th>\n",
              "      <td>...</td>\n",
              "      <td>...</td>\n",
              "      <td>...</td>\n",
              "      <td>...</td>\n",
              "    </tr>\n",
              "    <tr>\n",
              "      <th>990</th>\n",
              "      <td>105,127.00</td>\n",
              "      <td>271,621.87</td>\n",
              "      <td>1</td>\n",
              "      <td>0</td>\n",
              "    </tr>\n",
              "    <tr>\n",
              "      <th>991</th>\n",
              "      <td>46,798.00</td>\n",
              "      <td>159,075.91</td>\n",
              "      <td>0</td>\n",
              "      <td>0</td>\n",
              "    </tr>\n",
              "    <tr>\n",
              "      <th>992</th>\n",
              "      <td>97,209.00</td>\n",
              "      <td>256,344.07</td>\n",
              "      <td>0</td>\n",
              "      <td>1</td>\n",
              "    </tr>\n",
              "    <tr>\n",
              "      <th>993</th>\n",
              "      <td>54,135.00</td>\n",
              "      <td>173,232.67</td>\n",
              "      <td>0</td>\n",
              "      <td>0</td>\n",
              "    </tr>\n",
              "    <tr>\n",
              "      <th>994</th>\n",
              "      <td>134,970.00</td>\n",
              "      <td>329,204.02</td>\n",
              "      <td>0</td>\n",
              "      <td>0</td>\n",
              "    </tr>\n",
              "  </tbody>\n",
              "</table>\n",
              "<p>995 rows × 4 columns</p>\n",
              "</div>\n",
              "    <div class=\"colab-df-buttons\">\n",
              "\n",
              "  <div class=\"colab-df-container\">\n",
              "    <button class=\"colab-df-convert\" onclick=\"convertToInteractive('df-6942c915-a249-4d65-ac56-fa6d68d82147')\"\n",
              "            title=\"Convert this dataframe to an interactive table.\"\n",
              "            style=\"display:none;\">\n",
              "\n",
              "  <svg xmlns=\"http://www.w3.org/2000/svg\" height=\"24px\" viewBox=\"0 -960 960 960\">\n",
              "    <path d=\"M120-120v-720h720v720H120Zm60-500h600v-160H180v160Zm220 220h160v-160H400v160Zm0 220h160v-160H400v160ZM180-400h160v-160H180v160Zm440 0h160v-160H620v160ZM180-180h160v-160H180v160Zm440 0h160v-160H620v160Z\"/>\n",
              "  </svg>\n",
              "    </button>\n",
              "\n",
              "  <style>\n",
              "    .colab-df-container {\n",
              "      display:flex;\n",
              "      gap: 12px;\n",
              "    }\n",
              "\n",
              "    .colab-df-convert {\n",
              "      background-color: #E8F0FE;\n",
              "      border: none;\n",
              "      border-radius: 50%;\n",
              "      cursor: pointer;\n",
              "      display: none;\n",
              "      fill: #1967D2;\n",
              "      height: 32px;\n",
              "      padding: 0 0 0 0;\n",
              "      width: 32px;\n",
              "    }\n",
              "\n",
              "    .colab-df-convert:hover {\n",
              "      background-color: #E2EBFA;\n",
              "      box-shadow: 0px 1px 2px rgba(60, 64, 67, 0.3), 0px 1px 3px 1px rgba(60, 64, 67, 0.15);\n",
              "      fill: #174EA6;\n",
              "    }\n",
              "\n",
              "    .colab-df-buttons div {\n",
              "      margin-bottom: 4px;\n",
              "    }\n",
              "\n",
              "    [theme=dark] .colab-df-convert {\n",
              "      background-color: #3B4455;\n",
              "      fill: #D2E3FC;\n",
              "    }\n",
              "\n",
              "    [theme=dark] .colab-df-convert:hover {\n",
              "      background-color: #434B5C;\n",
              "      box-shadow: 0px 1px 3px 1px rgba(0, 0, 0, 0.15);\n",
              "      filter: drop-shadow(0px 1px 2px rgba(0, 0, 0, 0.3));\n",
              "      fill: #FFFFFF;\n",
              "    }\n",
              "  </style>\n",
              "\n",
              "    <script>\n",
              "      const buttonEl =\n",
              "        document.querySelector('#df-6942c915-a249-4d65-ac56-fa6d68d82147 button.colab-df-convert');\n",
              "      buttonEl.style.display =\n",
              "        google.colab.kernel.accessAllowed ? 'block' : 'none';\n",
              "\n",
              "      async function convertToInteractive(key) {\n",
              "        const element = document.querySelector('#df-6942c915-a249-4d65-ac56-fa6d68d82147');\n",
              "        const dataTable =\n",
              "          await google.colab.kernel.invokeFunction('convertToInteractive',\n",
              "                                                    [key], {});\n",
              "        if (!dataTable) return;\n",
              "\n",
              "        const docLinkHtml = 'Like what you see? Visit the ' +\n",
              "          '<a target=\"_blank\" href=https://colab.research.google.com/notebooks/data_table.ipynb>data table notebook</a>'\n",
              "          + ' to learn more about interactive tables.';\n",
              "        element.innerHTML = '';\n",
              "        dataTable['output_type'] = 'display_data';\n",
              "        await google.colab.output.renderOutput(dataTable, element);\n",
              "        const docLink = document.createElement('div');\n",
              "        docLink.innerHTML = docLinkHtml;\n",
              "        element.appendChild(docLink);\n",
              "      }\n",
              "    </script>\n",
              "  </div>\n",
              "\n",
              "\n",
              "<div id=\"df-750f81ac-b2a7-4393-87d0-73a2afeb2744\">\n",
              "  <button class=\"colab-df-quickchart\" onclick=\"quickchart('df-750f81ac-b2a7-4393-87d0-73a2afeb2744')\"\n",
              "            title=\"Suggest charts\"\n",
              "            style=\"display:none;\">\n",
              "\n",
              "<svg xmlns=\"http://www.w3.org/2000/svg\" height=\"24px\"viewBox=\"0 0 24 24\"\n",
              "     width=\"24px\">\n",
              "    <g>\n",
              "        <path d=\"M19 3H5c-1.1 0-2 .9-2 2v14c0 1.1.9 2 2 2h14c1.1 0 2-.9 2-2V5c0-1.1-.9-2-2-2zM9 17H7v-7h2v7zm4 0h-2V7h2v10zm4 0h-2v-4h2v4z\"/>\n",
              "    </g>\n",
              "</svg>\n",
              "  </button>\n",
              "\n",
              "<style>\n",
              "  .colab-df-quickchart {\n",
              "      --bg-color: #E8F0FE;\n",
              "      --fill-color: #1967D2;\n",
              "      --hover-bg-color: #E2EBFA;\n",
              "      --hover-fill-color: #174EA6;\n",
              "      --disabled-fill-color: #AAA;\n",
              "      --disabled-bg-color: #DDD;\n",
              "  }\n",
              "\n",
              "  [theme=dark] .colab-df-quickchart {\n",
              "      --bg-color: #3B4455;\n",
              "      --fill-color: #D2E3FC;\n",
              "      --hover-bg-color: #434B5C;\n",
              "      --hover-fill-color: #FFFFFF;\n",
              "      --disabled-bg-color: #3B4455;\n",
              "      --disabled-fill-color: #666;\n",
              "  }\n",
              "\n",
              "  .colab-df-quickchart {\n",
              "    background-color: var(--bg-color);\n",
              "    border: none;\n",
              "    border-radius: 50%;\n",
              "    cursor: pointer;\n",
              "    display: none;\n",
              "    fill: var(--fill-color);\n",
              "    height: 32px;\n",
              "    padding: 0;\n",
              "    width: 32px;\n",
              "  }\n",
              "\n",
              "  .colab-df-quickchart:hover {\n",
              "    background-color: var(--hover-bg-color);\n",
              "    box-shadow: 0 1px 2px rgba(60, 64, 67, 0.3), 0 1px 3px 1px rgba(60, 64, 67, 0.15);\n",
              "    fill: var(--button-hover-fill-color);\n",
              "  }\n",
              "\n",
              "  .colab-df-quickchart-complete:disabled,\n",
              "  .colab-df-quickchart-complete:disabled:hover {\n",
              "    background-color: var(--disabled-bg-color);\n",
              "    fill: var(--disabled-fill-color);\n",
              "    box-shadow: none;\n",
              "  }\n",
              "\n",
              "  .colab-df-spinner {\n",
              "    border: 2px solid var(--fill-color);\n",
              "    border-color: transparent;\n",
              "    border-bottom-color: var(--fill-color);\n",
              "    animation:\n",
              "      spin 1s steps(1) infinite;\n",
              "  }\n",
              "\n",
              "  @keyframes spin {\n",
              "    0% {\n",
              "      border-color: transparent;\n",
              "      border-bottom-color: var(--fill-color);\n",
              "      border-left-color: var(--fill-color);\n",
              "    }\n",
              "    20% {\n",
              "      border-color: transparent;\n",
              "      border-left-color: var(--fill-color);\n",
              "      border-top-color: var(--fill-color);\n",
              "    }\n",
              "    30% {\n",
              "      border-color: transparent;\n",
              "      border-left-color: var(--fill-color);\n",
              "      border-top-color: var(--fill-color);\n",
              "      border-right-color: var(--fill-color);\n",
              "    }\n",
              "    40% {\n",
              "      border-color: transparent;\n",
              "      border-right-color: var(--fill-color);\n",
              "      border-top-color: var(--fill-color);\n",
              "    }\n",
              "    60% {\n",
              "      border-color: transparent;\n",
              "      border-right-color: var(--fill-color);\n",
              "    }\n",
              "    80% {\n",
              "      border-color: transparent;\n",
              "      border-right-color: var(--fill-color);\n",
              "      border-bottom-color: var(--fill-color);\n",
              "    }\n",
              "    90% {\n",
              "      border-color: transparent;\n",
              "      border-bottom-color: var(--fill-color);\n",
              "    }\n",
              "  }\n",
              "</style>\n",
              "\n",
              "  <script>\n",
              "    async function quickchart(key) {\n",
              "      const quickchartButtonEl =\n",
              "        document.querySelector('#' + key + ' button');\n",
              "      quickchartButtonEl.disabled = true;  // To prevent multiple clicks.\n",
              "      quickchartButtonEl.classList.add('colab-df-spinner');\n",
              "      try {\n",
              "        const charts = await google.colab.kernel.invokeFunction(\n",
              "            'suggestCharts', [key], {});\n",
              "      } catch (error) {\n",
              "        console.error('Error during call to suggestCharts:', error);\n",
              "      }\n",
              "      quickchartButtonEl.classList.remove('colab-df-spinner');\n",
              "      quickchartButtonEl.classList.add('colab-df-quickchart-complete');\n",
              "    }\n",
              "    (() => {\n",
              "      let quickchartButtonEl =\n",
              "        document.querySelector('#df-750f81ac-b2a7-4393-87d0-73a2afeb2744 button');\n",
              "      quickchartButtonEl.style.display =\n",
              "        google.colab.kernel.accessAllowed ? 'block' : 'none';\n",
              "    })();\n",
              "  </script>\n",
              "</div>\n",
              "    </div>\n",
              "  </div>\n"
            ]
          },
          "metadata": {},
          "execution_count": 44
        }
      ]
    },
    {
      "cell_type": "markdown",
      "source": [
        "Splitting the data into Train and Test set"
      ],
      "metadata": {
        "id": "eCy3Gob-6320"
      }
    },
    {
      "cell_type": "code",
      "source": [
        "# Split the data into training and testing sets\n",
        "x_encoded_train, x_encoded_test, y_train, y_test = train_test_split(x_encoded, y, test_size=0.2, random_state=42)\n"
      ],
      "metadata": {
        "id": "F8W2Xav07EDr"
      },
      "execution_count": null,
      "outputs": []
    },
    {
      "cell_type": "code",
      "source": [
        "#Checking if the split has approximately equal distributions of values\n",
        "print(f\"Train Florida: {x_encoded_train['State_Florida'].mean()}\")\n",
        "print(f\"Test Florida: {x_encoded_test['State_Florida'].mean()}\")\n",
        "print(f\"Train Marketing: {x_encoded_train['Marketing Spend'].mean()}\")\n",
        "print(f\"Test Marketing: {x_encoded_test['Marketing Spend'].mean()}\")"
      ],
      "metadata": {
        "colab": {
          "base_uri": "https://localhost:8080/"
        },
        "id": "m_wpmH5CCMko",
        "outputId": "e9e3b73b-00cd-4f5a-9943-1499e428e0ec"
      },
      "execution_count": null,
      "outputs": [
        {
          "output_type": "stream",
          "name": "stdout",
          "text": [
            "Train Florida: 0.32914572864321606\n",
            "Test Florida: 0.3015075376884422\n",
            "Train Marketing: 226305.10887085437\n",
            "Test Marketing: 226054.55122678386\n"
          ]
        }
      ]
    },
    {
      "cell_type": "markdown",
      "source": [
        "Scaling the Features"
      ],
      "metadata": {
        "id": "KqYB_gsVEXNC"
      }
    },
    {
      "cell_type": "code",
      "source": [
        "\n",
        "# Scaling inputs\n",
        "sc_x = StandardScaler()\n",
        "x_encoded_train = sc_x.fit_transform(x_encoded_train)\n",
        "x_encoded_test = sc_x.transform(x_encoded_test)\n",
        "\n",
        "# Scaling target variable\n",
        "sc_y = StandardScaler()\n",
        "y_train = sc_y.fit_transform(y_train.reshape(-1, 1))\n",
        "y_test = sc_y.transform(y_test.reshape(-1, 1))\n"
      ],
      "metadata": {
        "id": "mbD3fnVjEZf5"
      },
      "execution_count": null,
      "outputs": []
    },
    {
      "cell_type": "code",
      "source": [
        "y_train = y_train.reshape(796)\n",
        "y_test = y_test.reshape(199)"
      ],
      "metadata": {
        "id": "tKGCL4Cq3ZIj"
      },
      "execution_count": null,
      "outputs": []
    },
    {
      "cell_type": "markdown",
      "source": [
        "## 5. Model Selection and Evaluation"
      ],
      "metadata": {
        "id": "tb6BHbFQ4SIY"
      }
    },
    {
      "cell_type": "code",
      "source": [
        "Rsqr_test = []  # Create an empty list to store R-squared values\n",
        "order = range(1, 4)  # Create a range of polynomial degrees from 1 to 3\n",
        "for n in order:\n",
        "    pr = PolynomialFeatures(degree=n)  # Create a PolynomialFeatures transformer for degree n\n",
        "    x_encoded_train_poly = pr.fit_transform(x_encoded_train)  # Transform the training data into polynomial features\n",
        "    x_encoded_test_poly = pr.fit_transform(x_encoded_test)  # Transform the test data into polynomial features\n",
        "    lr = LinearRegression()  # Create a Linear Regression model\n",
        "    lr.fit(x_encoded_train_poly, y_train)  # Fit the model on the training data with polynomial features\n",
        "    Rsqr_test.append(lr.score(x_encoded_test_poly, y_test))  # Calculate R-squared for the model on the test data\n",
        "Rsqr_test"
      ],
      "metadata": {
        "colab": {
          "base_uri": "https://localhost:8080/"
        },
        "id": "YeU4So1T-ALH",
        "outputId": "e77ec77a-28e6-4e90-b61d-87a7046171ca"
      },
      "execution_count": null,
      "outputs": [
        {
          "output_type": "execute_result",
          "data": {
            "text/plain": [
              "[0.9995009371042611, 0.9993575111861085, 0.998764757023665]"
            ]
          },
          "metadata": {},
          "execution_count": 49
        }
      ]
    },
    {
      "cell_type": "code",
      "source": [
        "plt.plot(Rsqr_test)\n",
        "plt.show()"
      ],
      "metadata": {
        "colab": {
          "base_uri": "https://localhost:8080/",
          "height": 434
        },
        "id": "KBoo8f4U_duu",
        "outputId": "5582d957-5431-4039-9c31-dcb3f5e7bc35"
      },
      "execution_count": null,
      "outputs": [
        {
          "output_type": "display_data",
          "data": {
            "text/plain": [
              "<Figure size 640x480 with 1 Axes>"
            ],
            "image/png": "[encoded data removed]"
          },
          "metadata": {}
        }
      ]
    },
    {
      "cell_type": "markdown",
      "source": [
        "Support Vector regression"
      ],
      "metadata": {
        "id": "fnRECu_cS3eK"
      }
    },
    {
      "cell_type": "code",
      "source": [
        "svr = SVR()\n",
        "svr.fit(x_encoded_train, y_train)\n",
        "svr.score(x_encoded_test, y_test)"
      ],
      "metadata": {
        "colab": {
          "base_uri": "https://localhost:8080/"
        },
        "id": "L13kLqVCRybv",
        "outputId": "56a0794b-e63b-4813-987a-30c30b2da052"
      },
      "execution_count": null,
      "outputs": [
        {
          "output_type": "execute_result",
          "data": {
            "text/plain": [
              "0.995424772969898"
            ]
          },
          "metadata": {},
          "execution_count": 51
        }
      ]
    },
    {
      "cell_type": "markdown",
      "source": [
        "Decision Tree regression"
      ],
      "metadata": {
        "id": "iBpVmN6mTHq9"
      }
    },
    {
      "cell_type": "code",
      "source": [
        "dt = DecisionTreeRegressor()\n",
        "dt.fit(x_encoded_train, y_train)\n",
        "dt.score(x_encoded_test, y_test)"
      ],
      "metadata": {
        "colab": {
          "base_uri": "https://localhost:8080/"
        },
        "id": "3cz0gEGMTJy3",
        "outputId": "bf7622f9-2eac-403d-ccd2-820a93914652"
      },
      "execution_count": null,
      "outputs": [
        {
          "output_type": "execute_result",
          "data": {
            "text/plain": [
              "0.9998024121535728"
            ]
          },
          "metadata": {},
          "execution_count": 52
        }
      ]
    },
    {
      "cell_type": "markdown",
      "source": [
        "Random Forest regression"
      ],
      "metadata": {
        "id": "8tl1Rgw7Tvjh"
      }
    },
    {
      "cell_type": "code",
      "source": [
        "rf = RandomForestRegressor()\n",
        "rf.fit(x_encoded_train, y_train)\n",
        "rf.score(x_encoded_test, y_test)"
      ],
      "metadata": {
        "colab": {
          "base_uri": "https://localhost:8080/"
        },
        "id": "J0zrHbBjTxyx",
        "outputId": "ab0791c3-fb3d-4b32-c04c-2856ca7c4c8e"
      },
      "execution_count": null,
      "outputs": [
        {
          "output_type": "execute_result",
          "data": {
            "text/plain": [
              "0.9996839076037085"
            ]
          },
          "metadata": {},
          "execution_count": 53
        }
      ]
    },
    {
      "cell_type": "markdown",
      "source": [
        "  The best performing model is Multiple Linear Regression."
      ],
      "metadata": {
        "id": "YFPrrnDJUQgj"
      }
    },
    {
      "cell_type": "markdown",
      "source": [
        " Fitting multiple linear regression model to training set"
      ],
      "metadata": {
        "id": "kiMg-4loRgzd"
      }
    },
    {
      "cell_type": "code",
      "source": [
        "# Create and fit the linear regression model\n",
        "regression_model = LinearRegression()\n",
        "regression_model.fit(x_encoded_train, y_train)\n",
        "r2_score = regression_model.score(x_encoded_test, y_test)"
      ],
      "metadata": {
        "id": "zSWM8_Yc8aBe"
      },
      "execution_count": null,
      "outputs": []
    },
    {
      "cell_type": "code",
      "source": [
        "# Adjusted R-square of the model\n",
        "n = x_encoded_test.shape[0]\n",
        "p = x_encoded_test.shape[1]\n",
        "\n",
        "adjusted_r2 = 1-(1-r2_score)*(n-1)/(n-p-1)\n",
        "adjusted_r2"
      ],
      "metadata": {
        "colab": {
          "base_uri": "https://localhost:8080/"
        },
        "id": "O4D2aDzlVZMM",
        "outputId": "a4412444-5f18-43ac-ba46-f69f86000dbd"
      },
      "execution_count": null,
      "outputs": [
        {
          "output_type": "execute_result",
          "data": {
            "text/plain": [
              "0.999490647147648"
            ]
          },
          "metadata": {},
          "execution_count": 55
        }
      ]
    },
    {
      "cell_type": "markdown",
      "source": [
        "##  6. Residuals analysis"
      ],
      "metadata": {
        "id": "P8noaL7AWK6r"
      }
    },
    {
      "cell_type": "markdown",
      "source": [
        "Predicting the test set results"
      ],
      "metadata": {
        "id": "388gbOz0Chm_"
      }
    },
    {
      "cell_type": "code",
      "source": [
        "# Make predictions on the test data\n",
        "y_pred = regression_model.predict(x_encoded_test)\n",
        "y_pred"
      ],
      "metadata": {
        "id": "sHw5C5b8CvqI",
        "colab": {
          "base_uri": "https://localhost:8080/"
        },
        "outputId": "571fb013-cd57-4668-d894-55549a84efbe"
      },
      "execution_count": null,
      "outputs": [
        {
          "output_type": "execute_result",
          "data": {
            "text/plain": [
              "array([-1.22257631, -1.60483325,  0.71723087,  1.22888246,  0.98256969,\n",
              "       -0.09742318, -0.77835906, -0.83356988,  1.13040897,  1.59510327,\n",
              "        0.34652488, -0.5397842 , -0.22156299, -0.98112954,  1.58369818,\n",
              "        1.27300552, -0.76028479,  1.37919541,  0.02960534,  1.5848755 ,\n",
              "        1.57180307,  1.61736157,  0.03234287,  0.65058771, -1.58235985,\n",
              "       -0.96193778,  0.83357459, -0.03494089, -1.3839885 ,  0.49127777,\n",
              "       -0.03330612,  0.60870744, -0.12827919, -1.51253789,  1.14572994,\n",
              "        0.29861132,  1.66343059, -0.38454542,  0.57348958, -1.22027472,\n",
              "        1.00619828,  1.24299312, -1.25874532, -0.40431325, -1.3477654 ,\n",
              "       -0.22202744, -0.49422049,  1.10090278,  0.41044671, -1.03352827,\n",
              "        0.12898225,  1.09462652,  1.12172461,  0.59570957,  1.16855692,\n",
              "        0.06750623, -1.66791147, -0.24706932, -0.61692535, -0.53368106,\n",
              "        0.99689545,  1.6246908 , -1.67317572,  1.14744502, -1.12359129,\n",
              "        1.38006626,  1.20531777, -1.24846347, -1.3098262 ,  0.68711195,\n",
              "        0.99160395, -0.89741195, -0.22706959, -1.12894261,  1.02101407,\n",
              "        1.48657984, -0.88162931, -0.61183851,  1.22974286, -0.03836674,\n",
              "        1.48552584, -0.34047112, -1.35278198, -0.69080699, -0.8592483 ,\n",
              "       -1.64370681,  1.24811827,  1.40045789, -0.1712995 , -1.49513147,\n",
              "        0.41057741,  0.6448445 , -1.33860678, -0.95357503,  1.33304507,\n",
              "        0.56415991,  0.99456129, -1.04107363,  1.28648665, -0.91850878,\n",
              "       -0.59247937,  0.90648827,  0.8380319 , -0.39220878, -0.59044061,\n",
              "       -1.21279389,  0.55279681,  0.89070556,  0.57453251,  0.37537   ,\n",
              "       -0.24654201, -0.55634702,  1.2713435 , -0.72498192,  0.33742138,\n",
              "       -1.20015166, -1.49417396,  0.74170472,  0.19704038,  1.026155  ,\n",
              "       -1.58388707,  1.26194356,  0.5069261 , -1.22574301, -0.10784454,\n",
              "        1.54971685,  0.88799998, -0.07015301,  0.05071725, -0.40178825,\n",
              "        0.09119936, -1.33654286,  0.92445969,  1.61056437,  1.10290323,\n",
              "        0.73086831,  0.38164626,  1.10965741, -0.88569472,  0.74149433,\n",
              "       -1.71821327, -1.04052481, -1.51940537, -0.02678384, -0.68198312,\n",
              "       -0.90864032,  0.47589801, -0.10184321, -1.20888479, -0.58635942,\n",
              "       -1.02034255,  1.64309242,  0.2390282 ,  1.32108542, -0.66951768,\n",
              "        0.15606354,  0.80649331,  0.83329966, -0.96107737,  0.71272481,\n",
              "       -1.24530148, -0.53803717, -1.29405926,  0.4286402 , -0.64503912,\n",
              "        0.56161598, -0.70543964,  1.43972499, -0.70250381,  0.39259493,\n",
              "        1.30395863, -1.33361172,  1.44097831, -1.34600628,  0.67988925,\n",
              "       -0.2366416 ,  1.57952992, -0.41534326,  1.42732407, -1.2604772 ,\n",
              "       -1.60352584,  0.78035847,  1.39234856, -0.95219838, -1.71841157,\n",
              "       -0.85342375, -0.40891679, -1.1909826 , -1.21703713, -0.0058649 ,\n",
              "       -0.70491295, -0.38888577, -0.85129999, -0.31466467,  0.93952787,\n",
              "        0.97827339, -1.25637921,  0.560605  , -0.45623406])"
            ]
          },
          "metadata": {},
          "execution_count": 56
        }
      ]
    },
    {
      "cell_type": "code",
      "source": [
        "y_test"
      ],
      "metadata": {
        "id": "zZfCd5jvET7_",
        "colab": {
          "base_uri": "https://localhost:8080/"
        },
        "outputId": "8e2d28a6-1711-4273-e9f7-1317d86e4b5b"
      },
      "execution_count": null,
      "outputs": [
        {
          "output_type": "execute_result",
          "data": {
            "text/plain": [
              "array([-1.22424059, -1.60726911,  0.71948203,  1.22859894,  0.981789  ,\n",
              "       -0.09681638, -0.78269413, -0.83526329,  1.12992669,  1.59912639,\n",
              "        0.34802778, -0.54088461, -0.22202107, -0.98312079,  1.58688396,\n",
              "        1.27556418, -0.76183027,  1.3792153 ,  0.02690112,  1.58531055,\n",
              "        1.57496484,  1.6206153 ,  0.03239728,  0.65189003, -1.58556466,\n",
              "       -0.96307597,  0.83524627, -0.03502229, -1.38597859,  0.48950543,\n",
              "       -0.03338422,  0.60992523, -0.13130209, -1.51560177,  1.1480317 ,\n",
              "        0.29645009,  1.66402419, -0.38533249,  0.57188318, -1.22193436,\n",
              "        1.00903271,  1.24273809, -1.26405004, -0.40514022, -1.34968238,\n",
              "       -0.25086498, -0.4727961 ,  1.10311405,  0.6924245 , -1.03562529,\n",
              "        0.12647862,  1.09763944,  1.12397791,  0.59414802,  1.17171907,\n",
              "        0.06487852, -1.67404207, -0.24676457, -0.62093457, -0.53752225,\n",
              "        0.99614368,  1.62520621, -1.67656384,  1.14699712, -1.12587009,\n",
              "        1.38365534,  1.20855412, -1.25374743, -1.31248091,  0.688488  ,\n",
              "        0.9908415 , -0.95044174, -0.22753879, -1.1304179 ,  1.02306409,\n",
              "        1.48956959, -0.88617282, -0.61227004,  1.22946109, -0.04120816,\n",
              "        1.48851346, -0.34116922, -1.3555234 , -0.69221223, -0.86017922,\n",
              "       -1.64703545,  1.25062669,  1.40408812, -0.17440923, -1.4973459 ,\n",
              "        0.41139528,  0.64613523, -1.34131959, -0.95551066,  1.33653923,\n",
              "        0.56528778,  0.99737223, -1.04237156,  1.28631941, -0.91955931,\n",
              "       -0.59287182,  0.90555401,  0.84052689, -0.39576441, -0.59164327,\n",
              "       -1.21525275,  0.55114864,  0.89249255,  0.57649564,  0.37693112,\n",
              "       -0.24980363, -0.55748086,  1.2711457 , -0.72564182,  0.33809159,\n",
              "       -1.20533811, -1.49995388,  0.74319096,  0.19467412,  1.02821539,\n",
              "       -1.58709497,  1.26172678,  0.50875277, -1.228228  , -0.1108262 ,\n",
              "        1.55364836,  0.89059584, -0.07030548,  0.05162307, -0.28441174,\n",
              "        0.09218689, -1.34920904,  0.92712914,  1.61380437,  1.10511853,\n",
              "        0.733147  ,  0.38240573,  1.11188635, -0.89024645,  0.74379446,\n",
              "       -1.72087798, -1.04538906, -1.52523622, -0.02603445, -0.68255623,\n",
              "       -0.91048525,  0.47409462, -0.10481275, -1.21408886, -0.59030695,\n",
              "       -1.02241295,  1.64721241,  0.23674669,  1.32455544, -0.67363306,\n",
              "        0.15361457,  0.80811032,  0.83578511, -0.96221382,  0.71139945,\n",
              "       -1.25057906, -0.53831973, -1.29668214,  0.42674143, -0.64910509,\n",
              "        0.55998561, -0.70962752,  1.43986705, -0.70311834,  0.3933765 ,\n",
              "        1.30657977, -1.33550013,  1.44387602, -1.34873402,  0.68206503,\n",
              "       -0.23713013,  1.5835216 , -0.41537816,  1.43100853, -1.26221798,\n",
              "       -1.60677338,  0.78192273,  1.39596243, -0.95413123, -1.721891  ,\n",
              "       -0.85515723, -0.44587467, -1.19339743, -1.22225766, -0.00864072,\n",
              "       -0.70553234, -0.38886727, -0.85578229, -0.31806379,  0.9386603 ,\n",
              "        0.98023714, -1.26167915,  0.55897259, -0.4563515 ])"
            ]
          },
          "metadata": {},
          "execution_count": 57
        }
      ]
    },
    {
      "cell_type": "code",
      "source": [
        "plt.scatter(x=y_test, y=y_pred, alpha=0.8)\n",
        "plt.plot(y_test, y_test, color='darkgreen')\n",
        "plt.show()"
      ],
      "metadata": {
        "colab": {
          "base_uri": "https://localhost:8080/",
          "height": 434
        },
        "id": "tp2w0SHDWuuS",
        "outputId": "52583cd3-e175-4c79-de87-9cb59d89e264"
      },
      "execution_count": null,
      "outputs": [
        {
          "output_type": "display_data",
          "data": {
            "text/plain": [
              "<Figure size 640x480 with 1 Axes>"
            ],
            "image/png": "[encoded data removed]"
          },
          "metadata": {}
        }
      ]
    },
    {
      "cell_type": "code",
      "source": [
        "residuals = y_test - y_pred"
      ],
      "metadata": {
        "id": "ZEb7s1zvXo-J"
      },
      "execution_count": null,
      "outputs": []
    },
    {
      "cell_type": "markdown",
      "source": [
        "The errors should not follow any pattern and equally distributed."
      ],
      "metadata": {
        "id": "agUBFJ6jX1WQ"
      }
    },
    {
      "cell_type": "code",
      "source": [
        "plt.scatter(y=residuals, x=y_pred, alpha=0.8)\n",
        "plt.show()"
      ],
      "metadata": {
        "colab": {
          "base_uri": "https://localhost:8080/",
          "height": 434
        },
        "id": "YrzSMgb3YA1b",
        "outputId": "8cdcfbf6-48a1-488a-a094-2b6252653bc9"
      },
      "execution_count": null,
      "outputs": [
        {
          "output_type": "display_data",
          "data": {
            "text/plain": [
              "<Figure size 640x480 with 1 Axes>"
            ],
            "image/png": "[encoded data removed]"
          },
          "metadata": {}
        }
      ]
    },
    {
      "cell_type": "markdown",
      "source": [
        "Calculating the coefficients and intercepts"
      ],
      "metadata": {
        "id": "UMsZwgbCGC4m"
      }
    },
    {
      "cell_type": "code",
      "source": [
        "# Calculating the Coefficients (slope coefficients for each explanatary variable)\n",
        "print(\"Coefficients (beta_1, beta_2, beta_3, beta_4, beta_5):\",regression_model.coef_ )\n",
        "\n"
      ],
      "metadata": {
        "id": "tyCywbYwGCAw",
        "colab": {
          "base_uri": "https://localhost:8080/"
        },
        "outputId": "3e2e4d47-383d-4e22-e45d-e032fd7fd6f9"
      },
      "execution_count": null,
      "outputs": [
        {
          "output_type": "stream",
          "name": "stdout",
          "text": [
            "Coefficients (beta_1, beta_2, beta_3, beta_4, beta_5): [ 0.93143245  0.0690423  -0.00167297 -0.00128983]\n"
          ]
        }
      ]
    },
    {
      "cell_type": "code",
      "source": [
        "# Calculating the Intercept (y-intercept / constant term)\n",
        "print(\"Intercept (beta_0):\", regression_model.intercept_)\n"
      ],
      "metadata": {
        "id": "Mpy54mRrSM_v",
        "colab": {
          "base_uri": "https://localhost:8080/"
        },
        "outputId": "cc1d2be0-8a72-4da5-a369-6f1f48470bb7"
      },
      "execution_count": null,
      "outputs": [
        {
          "output_type": "stream",
          "name": "stdout",
          "text": [
            "Intercept (beta_0): 1.776807471948179e-16\n"
          ]
        }
      ]
    },
    {
      "cell_type": "markdown",
      "source": [
        "Evaluating the model"
      ],
      "metadata": {
        "id": "4DSeEn-fT8-v"
      }
    },
    {
      "cell_type": "code",
      "source": [
        "from sklearn.metrics import mean_absolute_error, mean_squared_error, r2_score\n",
        "\n",
        "mae = mean_absolute_error(y_test, y_pred)\n",
        "mse = mean_squared_error(y_test, y_pred)\n",
        "rmse = np.sqrt(mse)\n",
        "r2 = r2_score(y_test, y_pred)\n",
        "\n"
      ],
      "metadata": {
        "id": "ZKqiOoNPiBd1"
      },
      "execution_count": null,
      "outputs": []
    },
    {
      "cell_type": "code",
      "source": [
        "r2\n"
      ],
      "metadata": {
        "colab": {
          "base_uri": "https://localhost:8080/"
        },
        "id": "TnWX6nUUi825",
        "outputId": "e147d8b0-914f-4d5b-aa09-d2dc26bc4510"
      },
      "execution_count": null,
      "outputs": [
        {
          "output_type": "execute_result",
          "data": {
            "text/plain": [
              "0.9995009371042611"
            ]
          },
          "metadata": {},
          "execution_count": 64
        }
      ]
    },
    {
      "cell_type": "code",
      "source": [
        "# Calculating the R squared value\n",
        "from sklearn.metrics import r2_score\n",
        "r2_score(y_test, y_pred)"
      ],
      "metadata": {
        "id": "-nSM9smfUCAD",
        "colab": {
          "base_uri": "https://localhost:8080/"
        },
        "outputId": "eec7ba52-5194-4fa2-b366-01017e0dd357"
      },
      "execution_count": null,
      "outputs": [
        {
          "output_type": "execute_result",
          "data": {
            "text/plain": [
              "0.9995009371042611"
            ]
          },
          "metadata": {},
          "execution_count": 65
        }
      ]
    },
    {
      "cell_type": "markdown",
      "source": [
        "R squared value of 0.99 proves the model is a good model"
      ],
      "metadata": {
        "id": "PyVk1bxtUczO"
      }
    },
    {
      "cell_type": "markdown",
      "source": [
        "## Our preferred model now has an equation that looks like this:"
      ],
      "metadata": {
        "id": "0NkabP0vaa7T"
      }
    },
    {
      "cell_type": "markdown",
      "source": [
        "**PROFIT** = 1,777 + (0.931) `X` R&D Spend + (0.069) `X` Marketing Spend + (-0.002)` X` State_Florida + (-0.001) `X` State_New York"
      ],
      "metadata": {
        "id": "N7A0ZjC3fqCa"
      }
    },
    {
      "cell_type": "markdown",
      "source": [
        "We successfully trained our model with certain predictors and estimated the profit of companies using linear regression"
      ],
      "metadata": {
        "id": "jVBaQh1vtK1f"
      }
    }
  ]
}